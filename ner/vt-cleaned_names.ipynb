{
 "cells": [
  {
   "cell_type": "markdown",
   "metadata": {
    "ExecuteTime": {
     "end_time": "2018-12-20T23:41:42.918027Z",
     "start_time": "2018-12-20T23:41:42.870759Z"
    }
   },
   "source": [
    "<h2\n",
    "    style=\"font-size:20px; font-family:'Helvetica Neue'\" align=\"right\"> Viktor Trokhymenko \n",
    "</h2>\n",
    "<h3 \n",
    "    style=\"font-size:16px; font-family:'Helvetica Neue'\" align=\"right\"> @vtrokhymenko\n",
    "</h3>"
   ]
  },
  {
   "cell_type": "code",
   "execution_count": 3,
   "metadata": {
    "ExecuteTime": {
     "end_time": "2019-01-03T20:00:37.860900Z",
     "start_time": "2019-01-03T20:00:37.825303Z"
    }
   },
   "outputs": [],
   "source": [
    "import warnings\n",
    "warnings.filterwarnings(\"ignore\")\n",
    "\n",
    "%load_ext autoreload\n",
    "%autoreload 2"
   ]
  },
  {
   "cell_type": "code",
   "execution_count": 4,
   "metadata": {
    "ExecuteTime": {
     "end_time": "2019-01-03T20:00:40.020896Z",
     "start_time": "2019-01-03T20:00:38.099158Z"
    }
   },
   "outputs": [],
   "source": [
    "import pandas as pd\n",
    "import numpy as np\n",
    "np.random.seed(42)\n",
    "import re\n",
    "from pprint import pprint\n",
    "import ast\n",
    "import pickle\n",
    "\n",
    "import matplotlib.pyplot as plt\n",
    "%matplotlib inline"
   ]
  },
  {
   "cell_type": "markdown",
   "metadata": {},
   "source": [
    "---"
   ]
  },
  {
   "cell_type": "markdown",
   "metadata": {},
   "source": [
    "### clean text"
   ]
  },
  {
   "cell_type": "code",
   "execution_count": 5,
   "metadata": {
    "ExecuteTime": {
     "end_time": "2019-01-03T20:00:42.903999Z",
     "start_time": "2019-01-03T20:00:42.774258Z"
    }
   },
   "outputs": [],
   "source": [
    "from nltk.corpus import stopwords\n",
    "#pip install razdel\n",
    "from razdel import tokenize # https://github.com/natasha/razdel\n",
    "#pip install pymorphy2\n",
    "import pymorphy2\n",
    "morph = pymorphy2.MorphAnalyzer()"
   ]
  },
  {
   "cell_type": "code",
   "execution_count": 6,
   "metadata": {
    "ExecuteTime": {
     "end_time": "2019-01-03T20:00:43.122178Z",
     "start_time": "2019-01-03T20:00:43.084478Z"
    }
   },
   "outputs": [
    {
     "name": "stdout",
     "output_type": "stream",
     "text": [
      "252\n"
     ]
    }
   ],
   "source": [
    "stopword_ru = stopwords.words('russian')\n",
    "with open('../preprocessing/stopwords.txt', 'r', encoding='utf-8') as f:\n",
    "    for w in f.readlines():\n",
    "        stopword_ru.append(w)\n",
    "print(len(stopword_ru))"
   ]
  },
  {
   "cell_type": "code",
   "execution_count": 7,
   "metadata": {
    "ExecuteTime": {
     "end_time": "2019-01-03T20:00:46.674396Z",
     "start_time": "2019-01-03T20:00:46.622510Z"
    }
   },
   "outputs": [],
   "source": [
    "def clean_text(text):\n",
    "    \n",
    "    if not isinstance(text, str):\n",
    "        text = str(text)\n",
    "    \n",
    "    text = text.lower()\n",
    "    text = text.strip('\\n').strip('\\r').strip('\\t')\n",
    "\n",
    "    text = re.sub(\"-\\s\\r\\n\\|-\\s\\r\\n|\\r\\n\", '', str(text))\n",
    "\n",
    "    text = re.sub(\"[0-9]|[-—.,:;_%©«»?*!@#№$^•·&()]|[+=]|[[]|[]]|[/]|\", '', text)\n",
    "    text = re.sub(r\"\\r\\n\\t|\\n|\\\\s|\\r\\t|\\\\n\", ' ', text)\n",
    "    text = re.sub(r'[\\xad]|[\\s+]', ' ', text.strip())\n",
    "\n",
    "    return text"
   ]
  },
  {
   "cell_type": "markdown",
   "metadata": {},
   "source": [
    "---"
   ]
  },
  {
   "cell_type": "markdown",
   "metadata": {},
   "source": [
    "### read data"
   ]
  },
  {
   "cell_type": "code",
   "execution_count": 9,
   "metadata": {
    "ExecuteTime": {
     "end_time": "2018-12-20T23:21:14.636466Z",
     "start_time": "2018-12-20T23:20:10.364971Z"
    }
   },
   "outputs": [
    {
     "name": "stdout",
     "output_type": "stream",
     "text": [
      "(699777, 5)\n",
      "CPU times: user 27.5 s, sys: 25.6 s, total: 53.2 s\n",
      "Wall time: 1min 4s\n"
     ]
    }
   ],
   "source": [
    "%%time\n",
    "\n",
    "df=pd.read_csv('data/news_lenta.csv')\n",
    "print(df.shape)"
   ]
  },
  {
   "cell_type": "code",
   "execution_count": 10,
   "metadata": {
    "ExecuteTime": {
     "end_time": "2018-12-20T23:21:19.853633Z",
     "start_time": "2018-12-20T23:21:19.772808Z"
    }
   },
   "outputs": [
    {
     "data": {
      "text/html": [
       "<div>\n",
       "<style scoped>\n",
       "    .dataframe tbody tr th:only-of-type {\n",
       "        vertical-align: middle;\n",
       "    }\n",
       "\n",
       "    .dataframe tbody tr th {\n",
       "        vertical-align: top;\n",
       "    }\n",
       "\n",
       "    .dataframe thead th {\n",
       "        text-align: right;\n",
       "    }\n",
       "</style>\n",
       "<table border=\"1\" class=\"dataframe\">\n",
       "  <thead>\n",
       "    <tr style=\"text-align: right;\">\n",
       "      <th></th>\n",
       "      <th>tags</th>\n",
       "      <th>text</th>\n",
       "      <th>title</th>\n",
       "      <th>topic</th>\n",
       "      <th>url</th>\n",
       "    </tr>\n",
       "  </thead>\n",
       "  <tbody>\n",
       "    <tr>\n",
       "      <th>0</th>\n",
       "      <td>Бокс и ММА</td>\n",
       "      <td>Украинский боксер Александр Усик рассказал, чт...</td>\n",
       "      <td>Усик поделился планами на будущее после победы...</td>\n",
       "      <td>Спорт</td>\n",
       "      <td>https://lenta.ru/news/2018/07/22/usik_plany/</td>\n",
       "    </tr>\n",
       "    <tr>\n",
       "      <th>1</th>\n",
       "      <td>Политика</td>\n",
       "      <td>Израиль эвакуировал из Сирии активистов «Белых...</td>\n",
       "      <td>Израиль вывез из Сирии членов «Белых касок» по...</td>\n",
       "      <td>Мир</td>\n",
       "      <td>https://lenta.ru/news/2018/07/22/evacuation/</td>\n",
       "    </tr>\n",
       "  </tbody>\n",
       "</table>\n",
       "</div>"
      ],
      "text/plain": [
       "         tags                                               text  \\\n",
       "0  Бокс и ММА  Украинский боксер Александр Усик рассказал, чт...   \n",
       "1    Политика  Израиль эвакуировал из Сирии активистов «Белых...   \n",
       "\n",
       "                                               title  topic  \\\n",
       "0  Усик поделился планами на будущее после победы...  Спорт   \n",
       "1  Израиль вывез из Сирии членов «Белых касок» по...    Мир   \n",
       "\n",
       "                                            url  \n",
       "0  https://lenta.ru/news/2018/07/22/usik_plany/  \n",
       "1  https://lenta.ru/news/2018/07/22/evacuation/  "
      ]
     },
     "execution_count": 10,
     "metadata": {},
     "output_type": "execute_result"
    }
   ],
   "source": [
    "df.head(2)"
   ]
  },
  {
   "cell_type": "markdown",
   "metadata": {
    "ExecuteTime": {
     "end_time": "2018-12-19T22:22:28.763177Z",
     "start_time": "2018-12-19T22:22:28.719414Z"
    }
   },
   "source": [
    "leave only [`url`,`text`] columns"
   ]
  },
  {
   "cell_type": "code",
   "execution_count": 11,
   "metadata": {
    "ExecuteTime": {
     "end_time": "2018-12-20T23:21:38.329065Z",
     "start_time": "2018-12-20T23:21:35.193285Z"
    }
   },
   "outputs": [
    {
     "data": {
      "text/html": [
       "<div>\n",
       "<style scoped>\n",
       "    .dataframe tbody tr th:only-of-type {\n",
       "        vertical-align: middle;\n",
       "    }\n",
       "\n",
       "    .dataframe tbody tr th {\n",
       "        vertical-align: top;\n",
       "    }\n",
       "\n",
       "    .dataframe thead th {\n",
       "        text-align: right;\n",
       "    }\n",
       "</style>\n",
       "<table border=\"1\" class=\"dataframe\">\n",
       "  <thead>\n",
       "    <tr style=\"text-align: right;\">\n",
       "      <th></th>\n",
       "      <th>url</th>\n",
       "      <th>text</th>\n",
       "    </tr>\n",
       "  </thead>\n",
       "  <tbody>\n",
       "    <tr>\n",
       "      <th>0</th>\n",
       "      <td>https://lenta.ru/news/2018/07/22/usik_plany/</td>\n",
       "      <td>Украинский боксер Александр Усик рассказал, чт...</td>\n",
       "    </tr>\n",
       "    <tr>\n",
       "      <th>1</th>\n",
       "      <td>https://lenta.ru/news/2018/07/22/evacuation/</td>\n",
       "      <td>Израиль эвакуировал из Сирии активистов «Белых...</td>\n",
       "    </tr>\n",
       "  </tbody>\n",
       "</table>\n",
       "</div>"
      ],
      "text/plain": [
       "                                            url  \\\n",
       "0  https://lenta.ru/news/2018/07/22/usik_plany/   \n",
       "1  https://lenta.ru/news/2018/07/22/evacuation/   \n",
       "\n",
       "                                                text  \n",
       "0  Украинский боксер Александр Усик рассказал, чт...  \n",
       "1  Израиль эвакуировал из Сирии активистов «Белых...  "
      ]
     },
     "execution_count": 11,
     "metadata": {},
     "output_type": "execute_result"
    }
   ],
   "source": [
    "df=df[['url','text']].copy()\n",
    "df.head(2)"
   ]
  },
  {
   "cell_type": "markdown",
   "metadata": {},
   "source": [
    "clean text"
   ]
  },
  {
   "cell_type": "code",
   "execution_count": 9,
   "metadata": {
    "ExecuteTime": {
     "end_time": "2018-12-17T23:55:24.176335Z",
     "start_time": "2018-12-17T23:47:56.751663Z"
    }
   },
   "outputs": [
    {
     "name": "stdout",
     "output_type": "stream",
     "text": [
      "CPU times: user 6min 37s, sys: 20.5 s, total: 6min 58s\n",
      "Wall time: 7min 27s\n"
     ]
    }
   ],
   "source": [
    "%%time\n",
    "df['text_clean']=df.text.apply(lambda x: clean_text(x))"
   ]
  },
  {
   "cell_type": "code",
   "execution_count": 10,
   "metadata": {
    "ExecuteTime": {
     "end_time": "2018-12-17T23:55:29.168847Z",
     "start_time": "2018-12-17T23:55:29.102025Z"
    }
   },
   "outputs": [
    {
     "data": {
      "text/html": [
       "<div>\n",
       "<style scoped>\n",
       "    .dataframe tbody tr th:only-of-type {\n",
       "        vertical-align: middle;\n",
       "    }\n",
       "\n",
       "    .dataframe tbody tr th {\n",
       "        vertical-align: top;\n",
       "    }\n",
       "\n",
       "    .dataframe thead th {\n",
       "        text-align: right;\n",
       "    }\n",
       "</style>\n",
       "<table border=\"1\" class=\"dataframe\">\n",
       "  <thead>\n",
       "    <tr style=\"text-align: right;\">\n",
       "      <th></th>\n",
       "      <th>url</th>\n",
       "      <th>text</th>\n",
       "      <th>text_clean</th>\n",
       "    </tr>\n",
       "  </thead>\n",
       "  <tbody>\n",
       "    <tr>\n",
       "      <th>0</th>\n",
       "      <td>https://lenta.ru/news/2018/07/22/usik_plany/</td>\n",
       "      <td>Украинский боксер Александр Усик рассказал, чт...</td>\n",
       "      <td>украинский боксер александр усик рассказал что...</td>\n",
       "    </tr>\n",
       "    <tr>\n",
       "      <th>1</th>\n",
       "      <td>https://lenta.ru/news/2018/07/22/evacuation/</td>\n",
       "      <td>Израиль эвакуировал из Сирии активистов «Белых...</td>\n",
       "      <td>израиль эвакуировал из сирии активистов белых ...</td>\n",
       "    </tr>\n",
       "    <tr>\n",
       "      <th>2</th>\n",
       "      <td>https://lenta.ru/news/2018/07/22/hazard_real/</td>\n",
       "      <td>Лондонский «Челси» отказался продать мадридско...</td>\n",
       "      <td>лондонский челси отказался продать мадридскому...</td>\n",
       "    </tr>\n",
       "    <tr>\n",
       "      <th>3</th>\n",
       "      <td>https://lenta.ru/news/2018/07/22/otvet/</td>\n",
       "      <td>Вице-президент Федерации профессионального бок...</td>\n",
       "      <td>вицепрезидент федерации профессионального бокс...</td>\n",
       "    </tr>\n",
       "    <tr>\n",
       "      <th>4</th>\n",
       "      <td>https://lenta.ru/news/2018/07/22/moneyrich/</td>\n",
       "      <td>Журнал Billboard опубликовал рейтинг самых выс...</td>\n",
       "      <td>журнал billboard опубликовал рейтинг самых выс...</td>\n",
       "    </tr>\n",
       "  </tbody>\n",
       "</table>\n",
       "</div>"
      ],
      "text/plain": [
       "                                             url  \\\n",
       "0   https://lenta.ru/news/2018/07/22/usik_plany/   \n",
       "1   https://lenta.ru/news/2018/07/22/evacuation/   \n",
       "2  https://lenta.ru/news/2018/07/22/hazard_real/   \n",
       "3        https://lenta.ru/news/2018/07/22/otvet/   \n",
       "4    https://lenta.ru/news/2018/07/22/moneyrich/   \n",
       "\n",
       "                                                text  \\\n",
       "0  Украинский боксер Александр Усик рассказал, чт...   \n",
       "1  Израиль эвакуировал из Сирии активистов «Белых...   \n",
       "2  Лондонский «Челси» отказался продать мадридско...   \n",
       "3  Вице-президент Федерации профессионального бок...   \n",
       "4  Журнал Billboard опубликовал рейтинг самых выс...   \n",
       "\n",
       "                                          text_clean  \n",
       "0  украинский боксер александр усик рассказал что...  \n",
       "1  израиль эвакуировал из сирии активистов белых ...  \n",
       "2  лондонский челси отказался продать мадридскому...  \n",
       "3  вицепрезидент федерации профессионального бокс...  \n",
       "4  журнал billboard опубликовал рейтинг самых выс...  "
      ]
     },
     "execution_count": 10,
     "metadata": {},
     "output_type": "execute_result"
    }
   ],
   "source": [
    "df.head()"
   ]
  },
  {
   "cell_type": "code",
   "execution_count": null,
   "metadata": {
    "ExecuteTime": {
     "end_time": "2018-12-17T23:57:14.596064Z",
     "start_time": "2018-12-17T23:55:30.837054Z"
    }
   },
   "outputs": [],
   "source": [
    "%%time\n",
    "df[['url','text_clean']].to_csv('data/news_lenta_clean.csv',index=False)"
   ]
  },
  {
   "cell_type": "code",
   "execution_count": 8,
   "metadata": {
    "ExecuteTime": {
     "end_time": "2019-01-03T20:01:42.554713Z",
     "start_time": "2019-01-03T20:01:11.165426Z"
    }
   },
   "outputs": [
    {
     "name": "stdout",
     "output_type": "stream",
     "text": [
      "(699777, 2)\n"
     ]
    },
    {
     "data": {
      "text/html": [
       "<div>\n",
       "<style scoped>\n",
       "    .dataframe tbody tr th:only-of-type {\n",
       "        vertical-align: middle;\n",
       "    }\n",
       "\n",
       "    .dataframe tbody tr th {\n",
       "        vertical-align: top;\n",
       "    }\n",
       "\n",
       "    .dataframe thead th {\n",
       "        text-align: right;\n",
       "    }\n",
       "</style>\n",
       "<table border=\"1\" class=\"dataframe\">\n",
       "  <thead>\n",
       "    <tr style=\"text-align: right;\">\n",
       "      <th></th>\n",
       "      <th>url</th>\n",
       "      <th>text_clean</th>\n",
       "    </tr>\n",
       "  </thead>\n",
       "  <tbody>\n",
       "    <tr>\n",
       "      <th>0</th>\n",
       "      <td>https://lenta.ru/news/2018/07/22/usik_plany/</td>\n",
       "      <td>украинский боксер александр усик рассказал что...</td>\n",
       "    </tr>\n",
       "    <tr>\n",
       "      <th>1</th>\n",
       "      <td>https://lenta.ru/news/2018/07/22/evacuation/</td>\n",
       "      <td>израиль эвакуировал из сирии активистов белых ...</td>\n",
       "    </tr>\n",
       "  </tbody>\n",
       "</table>\n",
       "</div>"
      ],
      "text/plain": [
       "                                            url  \\\n",
       "0  https://lenta.ru/news/2018/07/22/usik_plany/   \n",
       "1  https://lenta.ru/news/2018/07/22/evacuation/   \n",
       "\n",
       "                                          text_clean  \n",
       "0  украинский боксер александр усик рассказал что...  \n",
       "1  израиль эвакуировал из сирии активистов белых ...  "
      ]
     },
     "execution_count": 8,
     "metadata": {},
     "output_type": "execute_result"
    }
   ],
   "source": [
    "df = pd.read_csv('data/news_lenta_clean.csv')\n",
    "print(df.shape)\n",
    "df.head(2)"
   ]
  },
  {
   "cell_type": "markdown",
   "metadata": {},
   "source": [
    "---"
   ]
  },
  {
   "cell_type": "markdown",
   "metadata": {},
   "source": [
    "### take our dataset with some names like `cleaned names`"
   ]
  },
  {
   "cell_type": "code",
   "execution_count": 10,
   "metadata": {
    "ExecuteTime": {
     "end_time": "2019-01-03T20:41:06.985483Z",
     "start_time": "2019-01-03T20:41:06.895125Z"
    }
   },
   "outputs": [
    {
     "name": "stdout",
     "output_type": "stream",
     "text": [
      "(2201, 5)\n"
     ]
    },
    {
     "data": {
      "text/html": [
       "<div>\n",
       "<style scoped>\n",
       "    .dataframe tbody tr th:only-of-type {\n",
       "        vertical-align: middle;\n",
       "    }\n",
       "\n",
       "    .dataframe tbody tr th {\n",
       "        vertical-align: top;\n",
       "    }\n",
       "\n",
       "    .dataframe thead th {\n",
       "        text-align: right;\n",
       "    }\n",
       "</style>\n",
       "<table border=\"1\" class=\"dataframe\">\n",
       "  <thead>\n",
       "    <tr style=\"text-align: right;\">\n",
       "      <th></th>\n",
       "      <th>cleaned_name</th>\n",
       "      <th>has_namesake</th>\n",
       "      <th>names( from text)</th>\n",
       "      <th>cases</th>\n",
       "      <th>surname_cases</th>\n",
       "    </tr>\n",
       "  </thead>\n",
       "  <tbody>\n",
       "    <tr>\n",
       "      <th>0</th>\n",
       "      <td>аба бакр аль-багдади</td>\n",
       "      <td>False</td>\n",
       "      <td>Абу Бакр аль-Багдади,Абу Бакра Аль-Багдади,Абу...</td>\n",
       "      <td>аба бакр аль-багдади,абе бакр альбагдад,абой б...</td>\n",
       "      <td>аль-багдади, альбагдад</td>\n",
       "    </tr>\n",
       "    <tr>\n",
       "      <th>1</th>\n",
       "      <td>абд раббо мансур хади</td>\n",
       "      <td>False</td>\n",
       "      <td>Абд Раббо Мансур Хади,Абд Раббо Мансура Хади</td>\n",
       "      <td>абде раббо мансур хади, абдом раббо мансур ха...</td>\n",
       "      <td>хади</td>\n",
       "    </tr>\n",
       "    <tr>\n",
       "      <th>2</th>\n",
       "      <td>абдулла абдулла</td>\n",
       "      <td>False</td>\n",
       "      <td>Абдулла Абдулла,Абдулле Абдулле,Абдуллой Абдул...</td>\n",
       "      <td>абдулла абдулла,абдулле абдулле,абдуллой абдул...</td>\n",
       "      <td>абдулла, абдулле, абдуллой, абдуллу</td>\n",
       "    </tr>\n",
       "    <tr>\n",
       "      <th>3</th>\n",
       "      <td>абдулла гюль</td>\n",
       "      <td>False</td>\n",
       "      <td>Абдулла Гюль,Абдулле Гюлю,Абдуллу Гюля,Абдуллы...</td>\n",
       "      <td>абдулла гюле,абдулла гюлем,абдулла гюль,абдулл...</td>\n",
       "      <td>гюле, гюлем, гюль, гюлю</td>\n",
       "    </tr>\n",
       "    <tr>\n",
       "      <th>4</th>\n",
       "      <td>абубакар шекау</td>\n",
       "      <td>False</td>\n",
       "      <td>Абубакар Шекау,Абубакара Шекау</td>\n",
       "      <td>абубакар шекау,абубакара шекау,абубакаре шекау...</td>\n",
       "      <td>шекау</td>\n",
       "    </tr>\n",
       "  </tbody>\n",
       "</table>\n",
       "</div>"
      ],
      "text/plain": [
       "            cleaned_name  has_namesake  \\\n",
       "0   аба бакр аль-багдади         False   \n",
       "1  абд раббо мансур хади         False   \n",
       "2        абдулла абдулла         False   \n",
       "3           абдулла гюль         False   \n",
       "4         абубакар шекау         False   \n",
       "\n",
       "                                   names( from text)  \\\n",
       "0  Абу Бакр аль-Багдади,Абу Бакра Аль-Багдади,Абу...   \n",
       "1       Абд Раббо Мансур Хади,Абд Раббо Мансура Хади   \n",
       "2  Абдулла Абдулла,Абдулле Абдулле,Абдуллой Абдул...   \n",
       "3  Абдулла Гюль,Абдулле Гюлю,Абдуллу Гюля,Абдуллы...   \n",
       "4                     Абубакар Шекау,Абубакара Шекау   \n",
       "\n",
       "                                               cases  \\\n",
       "0  аба бакр аль-багдади,абе бакр альбагдад,абой б...   \n",
       "1   абде раббо мансур хади, абдом раббо мансур ха...   \n",
       "2  абдулла абдулла,абдулле абдулле,абдуллой абдул...   \n",
       "3  абдулла гюле,абдулла гюлем,абдулла гюль,абдулл...   \n",
       "4  абубакар шекау,абубакара шекау,абубакаре шекау...   \n",
       "\n",
       "                          surname_cases  \n",
       "0                аль-багдади, альбагдад  \n",
       "1                                  хади  \n",
       "2   абдулла, абдулле, абдуллой, абдуллу  \n",
       "3               гюле, гюлем, гюль, гюлю  \n",
       "4                                 шекау  "
      ]
     },
     "execution_count": 10,
     "metadata": {},
     "output_type": "execute_result"
    }
   ],
   "source": [
    "cleaned_name = pd.read_csv('data/cleaned_names.csv')\n",
    "print(cleaned_name.shape)\n",
    "cleaned_name.head()"
   ]
  },
  {
   "cell_type": "code",
   "execution_count": 11,
   "metadata": {
    "ExecuteTime": {
     "end_time": "2019-01-03T20:41:30.359300Z",
     "start_time": "2019-01-03T20:41:30.299463Z"
    },
    "scrolled": true
   },
   "outputs": [
    {
     "name": "stdout",
     "output_type": "stream",
     "text": [
      "(2201, 3)\n"
     ]
    },
    {
     "data": {
      "text/html": [
       "<div>\n",
       "<style scoped>\n",
       "    .dataframe tbody tr th:only-of-type {\n",
       "        vertical-align: middle;\n",
       "    }\n",
       "\n",
       "    .dataframe tbody tr th {\n",
       "        vertical-align: top;\n",
       "    }\n",
       "\n",
       "    .dataframe thead th {\n",
       "        text-align: right;\n",
       "    }\n",
       "</style>\n",
       "<table border=\"1\" class=\"dataframe\">\n",
       "  <thead>\n",
       "    <tr style=\"text-align: right;\">\n",
       "      <th></th>\n",
       "      <th>has_namesake</th>\n",
       "      <th>cleaned_name</th>\n",
       "      <th>cases</th>\n",
       "    </tr>\n",
       "  </thead>\n",
       "  <tbody>\n",
       "    <tr>\n",
       "      <th>0</th>\n",
       "      <td>False</td>\n",
       "      <td>аба бакр аль-багдади</td>\n",
       "      <td>аба бакр аль-багдади,абе бакр альбагдад,абой б...</td>\n",
       "    </tr>\n",
       "    <tr>\n",
       "      <th>1</th>\n",
       "      <td>False</td>\n",
       "      <td>абд раббо мансур хади</td>\n",
       "      <td>абде раббо мансур хади, абдом раббо мансур ха...</td>\n",
       "    </tr>\n",
       "    <tr>\n",
       "      <th>2</th>\n",
       "      <td>False</td>\n",
       "      <td>абдулла абдулла</td>\n",
       "      <td>абдулла абдулла,абдулле абдулле,абдуллой абдул...</td>\n",
       "    </tr>\n",
       "    <tr>\n",
       "      <th>3</th>\n",
       "      <td>False</td>\n",
       "      <td>абдулла гюль</td>\n",
       "      <td>абдулла гюле,абдулла гюлем,абдулла гюль,абдулл...</td>\n",
       "    </tr>\n",
       "    <tr>\n",
       "      <th>4</th>\n",
       "      <td>False</td>\n",
       "      <td>абубакар шекау</td>\n",
       "      <td>абубакар шекау,абубакара шекау,абубакаре шекау...</td>\n",
       "    </tr>\n",
       "  </tbody>\n",
       "</table>\n",
       "</div>"
      ],
      "text/plain": [
       "   has_namesake           cleaned_name  \\\n",
       "0         False   аба бакр аль-багдади   \n",
       "1         False  абд раббо мансур хади   \n",
       "2         False        абдулла абдулла   \n",
       "3         False           абдулла гюль   \n",
       "4         False         абубакар шекау   \n",
       "\n",
       "                                               cases  \n",
       "0  аба бакр аль-багдади,абе бакр альбагдад,абой б...  \n",
       "1   абде раббо мансур хади, абдом раббо мансур ха...  \n",
       "2  абдулла абдулла,абдулле абдулле,абдуллой абдул...  \n",
       "3  абдулла гюле,абдулла гюлем,абдулла гюль,абдулл...  \n",
       "4  абубакар шекау,абубакара шекау,абубакаре шекау...  "
      ]
     },
     "execution_count": 11,
     "metadata": {},
     "output_type": "execute_result"
    }
   ],
   "source": [
    "cleaned_name = cleaned_name[['has_namesake','cleaned_name','cases']].copy()\n",
    "#leave raws where mark has_namesake = False\n",
    "#cleaned_name = cleaned_name[cleaned_name.has_namesake == 0]\n",
    "print(cleaned_name.shape)\n",
    "cleaned_name.head()"
   ]
  },
  {
   "cell_type": "markdown",
   "metadata": {},
   "source": [
    "### edit cleaned_name\n",
    "* leave only the 1st value if we have they a few\n",
    "* join via `_` splitting `,`"
   ]
  },
  {
   "cell_type": "code",
   "execution_count": 12,
   "metadata": {
    "ExecuteTime": {
     "end_time": "2019-01-03T20:41:46.209795Z",
     "start_time": "2019-01-03T20:41:46.153260Z"
    }
   },
   "outputs": [
    {
     "data": {
      "text/html": [
       "<div>\n",
       "<style scoped>\n",
       "    .dataframe tbody tr th:only-of-type {\n",
       "        vertical-align: middle;\n",
       "    }\n",
       "\n",
       "    .dataframe tbody tr th {\n",
       "        vertical-align: top;\n",
       "    }\n",
       "\n",
       "    .dataframe thead th {\n",
       "        text-align: right;\n",
       "    }\n",
       "</style>\n",
       "<table border=\"1\" class=\"dataframe\">\n",
       "  <thead>\n",
       "    <tr style=\"text-align: right;\">\n",
       "      <th></th>\n",
       "      <th>has_namesake</th>\n",
       "      <th>cleaned_name</th>\n",
       "      <th>cases</th>\n",
       "      <th>cleaned_name_new</th>\n",
       "    </tr>\n",
       "  </thead>\n",
       "  <tbody>\n",
       "    <tr>\n",
       "      <th>0</th>\n",
       "      <td>False</td>\n",
       "      <td>аба бакр аль-багдади</td>\n",
       "      <td>аба бакр аль-багдади,абе бакр альбагдад,абой б...</td>\n",
       "      <td>аба_бакр_аль-багдади</td>\n",
       "    </tr>\n",
       "    <tr>\n",
       "      <th>1</th>\n",
       "      <td>False</td>\n",
       "      <td>абд раббо мансур хади</td>\n",
       "      <td>абде раббо мансур хади, абдом раббо мансур ха...</td>\n",
       "      <td>абд_раббо_мансур_хади</td>\n",
       "    </tr>\n",
       "    <tr>\n",
       "      <th>2</th>\n",
       "      <td>False</td>\n",
       "      <td>абдулла абдулла</td>\n",
       "      <td>абдулла абдулла,абдулле абдулле,абдуллой абдул...</td>\n",
       "      <td>абдулла_абдулла</td>\n",
       "    </tr>\n",
       "    <tr>\n",
       "      <th>3</th>\n",
       "      <td>False</td>\n",
       "      <td>абдулла гюль</td>\n",
       "      <td>абдулла гюле,абдулла гюлем,абдулла гюль,абдулл...</td>\n",
       "      <td>абдулла_гюль</td>\n",
       "    </tr>\n",
       "    <tr>\n",
       "      <th>4</th>\n",
       "      <td>False</td>\n",
       "      <td>абубакар шекау</td>\n",
       "      <td>абубакар шекау,абубакара шекау,абубакаре шекау...</td>\n",
       "      <td>абубакар_шекау</td>\n",
       "    </tr>\n",
       "  </tbody>\n",
       "</table>\n",
       "</div>"
      ],
      "text/plain": [
       "   has_namesake           cleaned_name  \\\n",
       "0         False   аба бакр аль-багдади   \n",
       "1         False  абд раббо мансур хади   \n",
       "2         False        абдулла абдулла   \n",
       "3         False           абдулла гюль   \n",
       "4         False         абубакар шекау   \n",
       "\n",
       "                                               cases       cleaned_name_new  \n",
       "0  аба бакр аль-багдади,абе бакр альбагдад,абой б...   аба_бакр_аль-багдади  \n",
       "1   абде раббо мансур хади, абдом раббо мансур ха...  абд_раббо_мансур_хади  \n",
       "2  абдулла абдулла,абдулле абдулле,абдуллой абдул...        абдулла_абдулла  \n",
       "3  абдулла гюле,абдулла гюлем,абдулла гюль,абдулл...           абдулла_гюль  \n",
       "4  абубакар шекау,абубакара шекау,абубакаре шекау...         абубакар_шекау  "
      ]
     },
     "execution_count": 12,
     "metadata": {},
     "output_type": "execute_result"
    }
   ],
   "source": [
    "cleaned_name['cleaned_name_new'] = cleaned_name.cleaned_name\\\n",
    "                                   .apply(lambda x: '_'.join(x.split(',')[0]\\\n",
    "                                                              .split(' ')))\n",
    "cleaned_name.head()"
   ]
  },
  {
   "cell_type": "markdown",
   "metadata": {},
   "source": [
    "### edit cases\n",
    "\n",
    "create the list all possible mentions dropping whitespace name"
   ]
  },
  {
   "cell_type": "markdown",
   "metadata": {},
   "source": [
    "drop null values"
   ]
  },
  {
   "cell_type": "code",
   "execution_count": 13,
   "metadata": {
    "ExecuteTime": {
     "end_time": "2019-01-03T20:42:48.876097Z",
     "start_time": "2019-01-03T20:42:48.835821Z"
    }
   },
   "outputs": [],
   "source": [
    "cleaned_name = cleaned_name[cleaned_name.cases.notnull()]"
   ]
  },
  {
   "cell_type": "markdown",
   "metadata": {},
   "source": [
    "create list"
   ]
  },
  {
   "cell_type": "code",
   "execution_count": 14,
   "metadata": {
    "ExecuteTime": {
     "end_time": "2019-01-03T20:42:49.901448Z",
     "start_time": "2019-01-03T20:42:49.844462Z"
    }
   },
   "outputs": [
    {
     "name": "stdout",
     "output_type": "stream",
     "text": [
      "(2201, 5)\n"
     ]
    },
    {
     "data": {
      "text/html": [
       "<div>\n",
       "<style scoped>\n",
       "    .dataframe tbody tr th:only-of-type {\n",
       "        vertical-align: middle;\n",
       "    }\n",
       "\n",
       "    .dataframe tbody tr th {\n",
       "        vertical-align: top;\n",
       "    }\n",
       "\n",
       "    .dataframe thead th {\n",
       "        text-align: right;\n",
       "    }\n",
       "</style>\n",
       "<table border=\"1\" class=\"dataframe\">\n",
       "  <thead>\n",
       "    <tr style=\"text-align: right;\">\n",
       "      <th></th>\n",
       "      <th>has_namesake</th>\n",
       "      <th>cleaned_name</th>\n",
       "      <th>cases</th>\n",
       "      <th>cleaned_name_new</th>\n",
       "      <th>cases_new</th>\n",
       "    </tr>\n",
       "  </thead>\n",
       "  <tbody>\n",
       "    <tr>\n",
       "      <th>0</th>\n",
       "      <td>False</td>\n",
       "      <td>аба бакр аль-багдади</td>\n",
       "      <td>аба бакр аль-багдади,абе бакр альбагдад,абой б...</td>\n",
       "      <td>аба_бакр_аль-багдади</td>\n",
       "      <td>[аба бакр аль-багдади, абе бакр альбагдад, або...</td>\n",
       "    </tr>\n",
       "    <tr>\n",
       "      <th>1</th>\n",
       "      <td>False</td>\n",
       "      <td>абд раббо мансур хади</td>\n",
       "      <td>абде раббо мансур хади, абдом раббо мансур ха...</td>\n",
       "      <td>абд_раббо_мансур_хади</td>\n",
       "      <td>[абде раббо мансур хади, абдом раббо мансур ха...</td>\n",
       "    </tr>\n",
       "  </tbody>\n",
       "</table>\n",
       "</div>"
      ],
      "text/plain": [
       "   has_namesake           cleaned_name  \\\n",
       "0         False   аба бакр аль-багдади   \n",
       "1         False  абд раббо мансур хади   \n",
       "\n",
       "                                               cases       cleaned_name_new  \\\n",
       "0  аба бакр аль-багдади,абе бакр альбагдад,абой б...   аба_бакр_аль-багдади   \n",
       "1   абде раббо мансур хади, абдом раббо мансур ха...  абд_раббо_мансур_хади   \n",
       "\n",
       "                                           cases_new  \n",
       "0  [аба бакр аль-багдади, абе бакр альбагдад, або...  \n",
       "1  [абде раббо мансур хади, абдом раббо мансур ха...  "
      ]
     },
     "execution_count": 14,
     "metadata": {},
     "output_type": "execute_result"
    }
   ],
   "source": [
    "cleaned_name['cases_new'] = cleaned_name.cases.apply(lambda x: [i.strip() for i in x.split(',')])\n",
    "print(cleaned_name.shape)\n",
    "cleaned_name.head(2)"
   ]
  },
  {
   "cell_type": "markdown",
   "metadata": {},
   "source": [
    "---"
   ]
  },
  {
   "cell_type": "markdown",
   "metadata": {},
   "source": [
    "## use flashtext to replace names"
   ]
  },
  {
   "cell_type": "code",
   "execution_count": 15,
   "metadata": {
    "ExecuteTime": {
     "end_time": "2019-01-03T20:43:16.807598Z",
     "start_time": "2019-01-03T20:43:16.756313Z"
    }
   },
   "outputs": [],
   "source": [
    "# https://github.com/vi3k6i5/flashtext\n",
    "# !pip install flashtext\n",
    "from flashtext import KeywordProcessor"
   ]
  },
  {
   "cell_type": "markdown",
   "metadata": {},
   "source": [
    "create dict from our dataset where key is `cleaned_name_new` & values - `cases_new`"
   ]
  },
  {
   "cell_type": "code",
   "execution_count": 16,
   "metadata": {
    "ExecuteTime": {
     "end_time": "2019-01-03T20:43:19.132591Z",
     "start_time": "2019-01-03T20:43:18.833616Z"
    }
   },
   "outputs": [
    {
     "name": "stdout",
     "output_type": "stream",
     "text": [
      "len dict_cleaned_name: 2201\n"
     ]
    }
   ],
   "source": [
    "dict_cleaned_name={}\n",
    "for _,i in cleaned_name.iterrows():\n",
    "    dict_cleaned_name[f'{i.cleaned_name_new}']=i.cases_new\n",
    "    \n",
    "print(f'len dict_cleaned_name: {len(dict_cleaned_name)}')"
   ]
  },
  {
   "cell_type": "code",
   "execution_count": 22,
   "metadata": {
    "ExecuteTime": {
     "end_time": "2019-01-03T20:44:04.912820Z",
     "start_time": "2019-01-03T20:44:04.876869Z"
    }
   },
   "outputs": [
    {
     "name": "stdout",
     "output_type": "stream",
     "text": [
      "['владимир путин', 'владимира путина', 'владимире путине', 'владимиром путиным', 'владимиру путину']\n"
     ]
    }
   ],
   "source": [
    "print(dict_cleaned_name['владимир_путин'])"
   ]
  },
  {
   "cell_type": "code",
   "execution_count": 23,
   "metadata": {
    "ExecuteTime": {
     "end_time": "2019-01-03T20:44:33.092166Z",
     "start_time": "2019-01-03T20:44:33.046618Z"
    }
   },
   "outputs": [],
   "source": [
    "with open('data/cleaned_name.pickle', 'wb') as handle:\n",
    "    pickle.dump(dict_cleaned_name, handle, protocol=pickle.HIGHEST_PROTOCOL)"
   ]
  },
  {
   "cell_type": "code",
   "execution_count": 24,
   "metadata": {
    "ExecuteTime": {
     "end_time": "2019-01-03T20:44:42.787590Z",
     "start_time": "2019-01-03T20:44:42.742798Z"
    }
   },
   "outputs": [
    {
     "name": "stdout",
     "output_type": "stream",
     "text": [
      "['владимир путин', 'владимира путина', 'владимире путине', 'владимиром путиным', 'владимиру путину']\n"
     ]
    }
   ],
   "source": [
    "with open('data/cleaned_name.pickle', 'rb') as handle:\n",
    "    dict_cleaned_name = pickle.load(handle)\n",
    "    \n",
    "print(dict_cleaned_name['владимир_путин'])"
   ]
  },
  {
   "cell_type": "markdown",
   "metadata": {},
   "source": [
    "create KeywordProcessor"
   ]
  },
  {
   "cell_type": "code",
   "execution_count": 25,
   "metadata": {
    "ExecuteTime": {
     "end_time": "2019-01-03T20:44:47.278730Z",
     "start_time": "2019-01-03T20:44:47.140094Z"
    }
   },
   "outputs": [
    {
     "data": {
      "text/plain": [
       "10510"
      ]
     },
     "execution_count": 25,
     "metadata": {},
     "output_type": "execute_result"
    }
   ],
   "source": [
    "#del kp\n",
    "kp = KeywordProcessor()\n",
    "\n",
    "kp.add_keywords_from_dict(dict_cleaned_name)\n",
    "len(kp)"
   ]
  },
  {
   "cell_type": "code",
   "execution_count": 30,
   "metadata": {
    "ExecuteTime": {
     "end_time": "2019-01-03T20:46:54.608126Z",
     "start_time": "2019-01-03T20:46:54.570760Z"
    }
   },
   "outputs": [
    {
     "name": "stdout",
     "output_type": "stream",
     "text": [
      "['дмитрий_песков', 'владимир_путин', 'авраам_линкольн', 'иосиф_сталин']\n",
      "когда дмитрий_песков увидел владимир_путин и авраам_линкольн то подумал о иосиф_сталин\n"
     ]
    }
   ],
   "source": [
    "text = '''когда дмитрий песков увидел владимира путина и авраама линкольна то подумал о иосифе сталине'''\n",
    "print(kp.extract_keywords(text))\n",
    "print(kp.replace_keywords(text))"
   ]
  },
  {
   "cell_type": "markdown",
   "metadata": {},
   "source": [
    "### replace words in our dataset"
   ]
  },
  {
   "cell_type": "code",
   "execution_count": 31,
   "metadata": {
    "ExecuteTime": {
     "end_time": "2019-01-03T20:47:02.813822Z",
     "start_time": "2019-01-03T20:47:02.770856Z"
    }
   },
   "outputs": [
    {
     "data": {
      "text/html": [
       "<div>\n",
       "<style scoped>\n",
       "    .dataframe tbody tr th:only-of-type {\n",
       "        vertical-align: middle;\n",
       "    }\n",
       "\n",
       "    .dataframe tbody tr th {\n",
       "        vertical-align: top;\n",
       "    }\n",
       "\n",
       "    .dataframe thead th {\n",
       "        text-align: right;\n",
       "    }\n",
       "</style>\n",
       "<table border=\"1\" class=\"dataframe\">\n",
       "  <thead>\n",
       "    <tr style=\"text-align: right;\">\n",
       "      <th></th>\n",
       "      <th>url</th>\n",
       "      <th>text_clean</th>\n",
       "    </tr>\n",
       "  </thead>\n",
       "  <tbody>\n",
       "    <tr>\n",
       "      <th>0</th>\n",
       "      <td>https://lenta.ru/news/2018/07/22/usik_plany/</td>\n",
       "      <td>украинский боксер александр усик рассказал что...</td>\n",
       "    </tr>\n",
       "    <tr>\n",
       "      <th>1</th>\n",
       "      <td>https://lenta.ru/news/2018/07/22/evacuation/</td>\n",
       "      <td>израиль эвакуировал из сирии активистов белых ...</td>\n",
       "    </tr>\n",
       "  </tbody>\n",
       "</table>\n",
       "</div>"
      ],
      "text/plain": [
       "                                            url  \\\n",
       "0  https://lenta.ru/news/2018/07/22/usik_plany/   \n",
       "1  https://lenta.ru/news/2018/07/22/evacuation/   \n",
       "\n",
       "                                          text_clean  \n",
       "0  украинский боксер александр усик рассказал что...  \n",
       "1  израиль эвакуировал из сирии активистов белых ...  "
      ]
     },
     "execution_count": 31,
     "metadata": {},
     "output_type": "execute_result"
    }
   ],
   "source": [
    "df.head(2)"
   ]
  },
  {
   "cell_type": "code",
   "execution_count": 499,
   "metadata": {
    "ExecuteTime": {
     "end_time": "2018-12-20T22:56:17.336193Z",
     "start_time": "2018-12-20T22:26:30.218534Z"
    }
   },
   "outputs": [
    {
     "name": "stdout",
     "output_type": "stream",
     "text": [
      "CPU times: user 28min 37s, sys: 31 s, total: 29min 8s\n",
      "Wall time: 29min 46s\n"
     ]
    }
   ],
   "source": [
    "%%time\n",
    "df['text_clean_name'] = df.text_clean.apply(lambda x: kp.replace_keywords(x))"
   ]
  },
  {
   "cell_type": "code",
   "execution_count": 500,
   "metadata": {
    "ExecuteTime": {
     "end_time": "2018-12-20T23:05:28.759015Z",
     "start_time": "2018-12-20T23:05:28.555802Z"
    }
   },
   "outputs": [
    {
     "data": {
      "text/plain": [
       "0    украинский боксер александр усик рассказал что...\n",
       "1    израиль эвакуировал из сирии активистов белых ...\n",
       "2    лондонский челси отказался продать мадридскому...\n",
       "3    вицепрезидент федерации профессионального бокс...\n",
       "4    журнал billboard опубликовал рейтинг самых выс...\n",
       "5    бывшего участника сборной команды актобе квн д...\n",
       "6    великобритания откажется от выплат отступных е...\n",
       "7    талисманы олимпийских и паралимпийских игр в т...\n",
       "8    около российской базы хмеймим в сирии произошл...\n",
       "9    президент украины петр порошенко поздравил бок...\n",
       "Name: text_clean, dtype: object"
      ]
     },
     "execution_count": 500,
     "metadata": {},
     "output_type": "execute_result"
    }
   ],
   "source": [
    "df.text_clean.head(10)"
   ]
  },
  {
   "cell_type": "markdown",
   "metadata": {},
   "source": [
    "---"
   ]
  },
  {
   "cell_type": "code",
   "execution_count": 181,
   "metadata": {
    "ExecuteTime": {
     "end_time": "2019-01-03T21:33:14.765185Z",
     "start_time": "2019-01-03T21:33:14.731916Z"
    }
   },
   "outputs": [],
   "source": [
    "text = '''когда дмитрий песков увидел владимира путина и авраама линкольна то подумал о иосифе сталине'''"
   ]
  },
  {
   "cell_type": "code",
   "execution_count": 186,
   "metadata": {
    "ExecuteTime": {
     "end_time": "2019-01-03T21:34:56.283379Z",
     "start_time": "2019-01-03T21:34:55.723837Z"
    }
   },
   "outputs": [
    {
     "name": "stdout",
     "output_type": "stream",
     "text": [
      "['дмитрий_песков', 'владимир_путин', 'авраам_линкольн', 'иосиф_сталин']\n",
      "когда дмитрий_песков увидел владимир_путин и авраам_линкольн то подумал о иосиф_сталин\n"
     ]
    }
   ],
   "source": [
    "from cleanedNames import KeyProc\n",
    "\n",
    "cn = KeyProc()\n",
    "\n",
    "print(cn.extractKeywords(text))\n",
    "print(cn.replaceKeywords(text))"
   ]
  },
  {
   "cell_type": "code",
   "execution_count": 185,
   "metadata": {
    "ExecuteTime": {
     "end_time": "2019-01-03T21:34:22.623803Z",
     "start_time": "2019-01-03T21:34:22.555430Z"
    }
   },
   "outputs": [
    {
     "data": {
      "text/plain": [
       "0    украинский боксер александр усик рассказал что...\n",
       "1    израиль эвакуировал из сирии активистов белых ...\n",
       "2    лондонский челси отказался продать мадридскому...\n",
       "3    вицепрезидент федерации профессионального бокс...\n",
       "4    журнал billboard опубликовал рейтинг самых выс...\n",
       "Name: text_clean, dtype: object"
      ]
     },
     "execution_count": 185,
     "metadata": {},
     "output_type": "execute_result"
    }
   ],
   "source": [
    "df.head().text_clean.apply(lambda x: cn.replaceKeywords(x))"
   ]
  },
  {
   "cell_type": "code",
   "execution_count": null,
   "metadata": {},
   "outputs": [],
   "source": []
  }
 ],
 "metadata": {
  "kernelspec": {
   "display_name": "Python 3",
   "language": "python",
   "name": "python3"
  },
  "language_info": {
   "codemirror_mode": {
    "name": "ipython",
    "version": 3
   },
   "file_extension": ".py",
   "mimetype": "text/x-python",
   "name": "python",
   "nbconvert_exporter": "python",
   "pygments_lexer": "ipython3",
   "version": "3.7.3"
  },
  "varInspector": {
   "cols": {
    "lenName": 16,
    "lenType": 16,
    "lenVar": 40
   },
   "kernels_config": {
    "python": {
     "delete_cmd_postfix": "",
     "delete_cmd_prefix": "del ",
     "library": "var_list.py",
     "varRefreshCmd": "print(var_dic_list())"
    },
    "r": {
     "delete_cmd_postfix": ") ",
     "delete_cmd_prefix": "rm(",
     "library": "var_list.r",
     "varRefreshCmd": "cat(var_dic_list()) "
    }
   },
   "types_to_exclude": [
    "module",
    "function",
    "builtin_function_or_method",
    "instance",
    "_Feature"
   ],
   "window_display": false
  }
 },
 "nbformat": 4,
 "nbformat_minor": 4
}
