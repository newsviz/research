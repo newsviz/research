{
 "cells": [
  {
   "cell_type": "code",
   "execution_count": 154,
   "metadata": {
    "ExecuteTime": {
     "end_time": "2018-12-19T22:20:49.928987Z",
     "start_time": "2018-12-19T22:20:49.872409Z"
    }
   },
   "outputs": [
    {
     "name": "stdout",
     "output_type": "stream",
     "text": [
      "The autoreload extension is already loaded. To reload it, use:\n",
      "  %reload_ext autoreload\n"
     ]
    }
   ],
   "source": [
    "import warnings\n",
    "warnings.filterwarnings(\"ignore\")\n",
    "\n",
    "%load_ext autoreload\n",
    "%autoreload 2"
   ]
  },
  {
   "cell_type": "code",
   "execution_count": 281,
   "metadata": {
    "ExecuteTime": {
     "end_time": "2018-12-19T23:44:43.234051Z",
     "start_time": "2018-12-19T23:44:43.185923Z"
    }
   },
   "outputs": [],
   "source": [
    "import pandas as pd\n",
    "import numpy as np\n",
    "np.random.seed(42)\n",
    "import re\n",
    "from pprint import pprint\n",
    "import ast\n",
    "\n",
    "import matplotlib.pyplot as plt\n",
    "%matplotlib inline"
   ]
  },
  {
   "cell_type": "markdown",
   "metadata": {},
   "source": [
    "---"
   ]
  },
  {
   "cell_type": "markdown",
   "metadata": {},
   "source": [
    "### clean text"
   ]
  },
  {
   "cell_type": "code",
   "execution_count": 3,
   "metadata": {
    "ExecuteTime": {
     "end_time": "2018-12-18T23:20:21.360206Z",
     "start_time": "2018-12-18T23:20:18.827206Z"
    }
   },
   "outputs": [],
   "source": [
    "from nltk.corpus import stopwords\n",
    "#pip install razdel\n",
    "from razdel import tokenize # https://github.com/natasha/razdel\n",
    "#pip install pymorphy2\n",
    "import pymorphy2\n",
    "morph = pymorphy2.MorphAnalyzer()"
   ]
  },
  {
   "cell_type": "code",
   "execution_count": 4,
   "metadata": {
    "ExecuteTime": {
     "end_time": "2018-12-18T23:20:21.536237Z",
     "start_time": "2018-12-18T23:20:21.489795Z"
    }
   },
   "outputs": [
    {
     "name": "stdout",
     "output_type": "stream",
     "text": [
      "205\n"
     ]
    }
   ],
   "source": [
    "stopword_ru = stopwords.words('russian')\n",
    "with open('preprocessing/stopwords.txt', 'r', encoding='utf-8') as f:\n",
    "    for w in f.readlines():\n",
    "        stopword_ru.append(w)\n",
    "print(len(stopword_ru))"
   ]
  },
  {
   "cell_type": "code",
   "execution_count": 5,
   "metadata": {
    "ExecuteTime": {
     "end_time": "2018-12-18T23:20:23.058375Z",
     "start_time": "2018-12-18T23:20:23.015293Z"
    }
   },
   "outputs": [],
   "source": [
    "def clean_text(text):\n",
    "    '''\n",
    "    очистка текста\n",
    "        \n",
    "    на выходе очищеный текст\n",
    "    '''\n",
    "    \n",
    "    if not isinstance(text, str):\n",
    "        text = str(text)\n",
    "    \n",
    "    text = text.lower()\n",
    "    text = text.strip('\\n').strip('\\r').strip('\\t')\n",
    "\n",
    "    text = re.sub(\"-\\s\\r\\n\\|-\\s\\r\\n|\\r\\n\", '', str(text))\n",
    "\n",
    "    text = re.sub(\"[0-9]|[-—.,:;_%©«»?*!@#№$^•·&()]|[+=]|[[]|[]]|[/]|\", '', text)\n",
    "    text = re.sub(r\"\\r\\n\\t|\\n|\\\\s|\\r\\t|\\\\n\", ' ', text)\n",
    "    text = re.sub(r'[\\xad]|[\\s+]', ' ', text.strip())\n",
    "\n",
    "    return text"
   ]
  },
  {
   "cell_type": "markdown",
   "metadata": {},
   "source": [
    "---"
   ]
  },
  {
   "cell_type": "markdown",
   "metadata": {},
   "source": [
    "### read data"
   ]
  },
  {
   "cell_type": "code",
   "execution_count": 6,
   "metadata": {
    "ExecuteTime": {
     "end_time": "2018-12-17T23:47:51.009934Z",
     "start_time": "2018-12-17T23:47:17.649677Z"
    }
   },
   "outputs": [
    {
     "name": "stdout",
     "output_type": "stream",
     "text": [
      "(699777, 5)\n",
      "CPU times: user 23.3 s, sys: 7.72 s, total: 31 s\n",
      "Wall time: 33.1 s\n"
     ]
    }
   ],
   "source": [
    "%%time\n",
    "\n",
    "df=pd.read_csv('data/news_lenta.csv')\n",
    "print(df.shape)"
   ]
  },
  {
   "cell_type": "code",
   "execution_count": 7,
   "metadata": {
    "ExecuteTime": {
     "end_time": "2018-12-17T23:47:51.252776Z",
     "start_time": "2018-12-17T23:47:51.198403Z"
    }
   },
   "outputs": [
    {
     "data": {
      "text/html": [
       "<div>\n",
       "<style scoped>\n",
       "    .dataframe tbody tr th:only-of-type {\n",
       "        vertical-align: middle;\n",
       "    }\n",
       "\n",
       "    .dataframe tbody tr th {\n",
       "        vertical-align: top;\n",
       "    }\n",
       "\n",
       "    .dataframe thead th {\n",
       "        text-align: right;\n",
       "    }\n",
       "</style>\n",
       "<table border=\"1\" class=\"dataframe\">\n",
       "  <thead>\n",
       "    <tr style=\"text-align: right;\">\n",
       "      <th></th>\n",
       "      <th>tags</th>\n",
       "      <th>text</th>\n",
       "      <th>title</th>\n",
       "      <th>topic</th>\n",
       "      <th>url</th>\n",
       "    </tr>\n",
       "  </thead>\n",
       "  <tbody>\n",
       "    <tr>\n",
       "      <th>0</th>\n",
       "      <td>Бокс и ММА</td>\n",
       "      <td>Украинский боксер Александр Усик рассказал, чт...</td>\n",
       "      <td>Усик поделился планами на будущее после победы...</td>\n",
       "      <td>Спорт</td>\n",
       "      <td>https://lenta.ru/news/2018/07/22/usik_plany/</td>\n",
       "    </tr>\n",
       "    <tr>\n",
       "      <th>1</th>\n",
       "      <td>Политика</td>\n",
       "      <td>Израиль эвакуировал из Сирии активистов «Белых...</td>\n",
       "      <td>Израиль вывез из Сирии членов «Белых касок» по...</td>\n",
       "      <td>Мир</td>\n",
       "      <td>https://lenta.ru/news/2018/07/22/evacuation/</td>\n",
       "    </tr>\n",
       "  </tbody>\n",
       "</table>\n",
       "</div>"
      ],
      "text/plain": [
       "         tags                                               text  \\\n",
       "0  Бокс и ММА  Украинский боксер Александр Усик рассказал, чт...   \n",
       "1    Политика  Израиль эвакуировал из Сирии активистов «Белых...   \n",
       "\n",
       "                                               title  topic  \\\n",
       "0  Усик поделился планами на будущее после победы...  Спорт   \n",
       "1  Израиль вывез из Сирии членов «Белых касок» по...    Мир   \n",
       "\n",
       "                                            url  \n",
       "0  https://lenta.ru/news/2018/07/22/usik_plany/  \n",
       "1  https://lenta.ru/news/2018/07/22/evacuation/  "
      ]
     },
     "execution_count": 7,
     "metadata": {},
     "output_type": "execute_result"
    }
   ],
   "source": [
    "df.head(2)"
   ]
  },
  {
   "cell_type": "markdown",
   "metadata": {
    "ExecuteTime": {
     "end_time": "2018-12-19T22:22:28.763177Z",
     "start_time": "2018-12-19T22:22:28.719414Z"
    }
   },
   "source": [
    "### leave only [`url`,`text`] columns"
   ]
  },
  {
   "cell_type": "code",
   "execution_count": 8,
   "metadata": {
    "ExecuteTime": {
     "end_time": "2018-12-17T23:47:54.242932Z",
     "start_time": "2018-12-17T23:47:53.979259Z"
    }
   },
   "outputs": [
    {
     "data": {
      "text/html": [
       "<div>\n",
       "<style scoped>\n",
       "    .dataframe tbody tr th:only-of-type {\n",
       "        vertical-align: middle;\n",
       "    }\n",
       "\n",
       "    .dataframe tbody tr th {\n",
       "        vertical-align: top;\n",
       "    }\n",
       "\n",
       "    .dataframe thead th {\n",
       "        text-align: right;\n",
       "    }\n",
       "</style>\n",
       "<table border=\"1\" class=\"dataframe\">\n",
       "  <thead>\n",
       "    <tr style=\"text-align: right;\">\n",
       "      <th></th>\n",
       "      <th>url</th>\n",
       "      <th>text</th>\n",
       "    </tr>\n",
       "  </thead>\n",
       "  <tbody>\n",
       "    <tr>\n",
       "      <th>0</th>\n",
       "      <td>https://lenta.ru/news/2018/07/22/usik_plany/</td>\n",
       "      <td>Украинский боксер Александр Усик рассказал, чт...</td>\n",
       "    </tr>\n",
       "    <tr>\n",
       "      <th>1</th>\n",
       "      <td>https://lenta.ru/news/2018/07/22/evacuation/</td>\n",
       "      <td>Израиль эвакуировал из Сирии активистов «Белых...</td>\n",
       "    </tr>\n",
       "  </tbody>\n",
       "</table>\n",
       "</div>"
      ],
      "text/plain": [
       "                                            url  \\\n",
       "0  https://lenta.ru/news/2018/07/22/usik_plany/   \n",
       "1  https://lenta.ru/news/2018/07/22/evacuation/   \n",
       "\n",
       "                                                text  \n",
       "0  Украинский боксер Александр Усик рассказал, чт...  \n",
       "1  Израиль эвакуировал из Сирии активистов «Белых...  "
      ]
     },
     "execution_count": 8,
     "metadata": {},
     "output_type": "execute_result"
    }
   ],
   "source": [
    "df=df[['url','text']].copy()\n",
    "df.head(2)"
   ]
  },
  {
   "cell_type": "markdown",
   "metadata": {},
   "source": [
    "clean text"
   ]
  },
  {
   "cell_type": "code",
   "execution_count": 9,
   "metadata": {
    "ExecuteTime": {
     "end_time": "2018-12-17T23:55:24.176335Z",
     "start_time": "2018-12-17T23:47:56.751663Z"
    }
   },
   "outputs": [
    {
     "name": "stdout",
     "output_type": "stream",
     "text": [
      "CPU times: user 6min 37s, sys: 20.5 s, total: 6min 58s\n",
      "Wall time: 7min 27s\n"
     ]
    }
   ],
   "source": [
    "%%time\n",
    "df['text_clean']=df.text.apply(lambda x: clean_text(x))"
   ]
  },
  {
   "cell_type": "code",
   "execution_count": 10,
   "metadata": {
    "ExecuteTime": {
     "end_time": "2018-12-17T23:55:29.168847Z",
     "start_time": "2018-12-17T23:55:29.102025Z"
    }
   },
   "outputs": [
    {
     "data": {
      "text/html": [
       "<div>\n",
       "<style scoped>\n",
       "    .dataframe tbody tr th:only-of-type {\n",
       "        vertical-align: middle;\n",
       "    }\n",
       "\n",
       "    .dataframe tbody tr th {\n",
       "        vertical-align: top;\n",
       "    }\n",
       "\n",
       "    .dataframe thead th {\n",
       "        text-align: right;\n",
       "    }\n",
       "</style>\n",
       "<table border=\"1\" class=\"dataframe\">\n",
       "  <thead>\n",
       "    <tr style=\"text-align: right;\">\n",
       "      <th></th>\n",
       "      <th>url</th>\n",
       "      <th>text</th>\n",
       "      <th>text_clean</th>\n",
       "    </tr>\n",
       "  </thead>\n",
       "  <tbody>\n",
       "    <tr>\n",
       "      <th>0</th>\n",
       "      <td>https://lenta.ru/news/2018/07/22/usik_plany/</td>\n",
       "      <td>Украинский боксер Александр Усик рассказал, чт...</td>\n",
       "      <td>украинский боксер александр усик рассказал что...</td>\n",
       "    </tr>\n",
       "    <tr>\n",
       "      <th>1</th>\n",
       "      <td>https://lenta.ru/news/2018/07/22/evacuation/</td>\n",
       "      <td>Израиль эвакуировал из Сирии активистов «Белых...</td>\n",
       "      <td>израиль эвакуировал из сирии активистов белых ...</td>\n",
       "    </tr>\n",
       "    <tr>\n",
       "      <th>2</th>\n",
       "      <td>https://lenta.ru/news/2018/07/22/hazard_real/</td>\n",
       "      <td>Лондонский «Челси» отказался продать мадридско...</td>\n",
       "      <td>лондонский челси отказался продать мадридскому...</td>\n",
       "    </tr>\n",
       "    <tr>\n",
       "      <th>3</th>\n",
       "      <td>https://lenta.ru/news/2018/07/22/otvet/</td>\n",
       "      <td>Вице-президент Федерации профессионального бок...</td>\n",
       "      <td>вицепрезидент федерации профессионального бокс...</td>\n",
       "    </tr>\n",
       "    <tr>\n",
       "      <th>4</th>\n",
       "      <td>https://lenta.ru/news/2018/07/22/moneyrich/</td>\n",
       "      <td>Журнал Billboard опубликовал рейтинг самых выс...</td>\n",
       "      <td>журнал billboard опубликовал рейтинг самых выс...</td>\n",
       "    </tr>\n",
       "  </tbody>\n",
       "</table>\n",
       "</div>"
      ],
      "text/plain": [
       "                                             url  \\\n",
       "0   https://lenta.ru/news/2018/07/22/usik_plany/   \n",
       "1   https://lenta.ru/news/2018/07/22/evacuation/   \n",
       "2  https://lenta.ru/news/2018/07/22/hazard_real/   \n",
       "3        https://lenta.ru/news/2018/07/22/otvet/   \n",
       "4    https://lenta.ru/news/2018/07/22/moneyrich/   \n",
       "\n",
       "                                                text  \\\n",
       "0  Украинский боксер Александр Усик рассказал, чт...   \n",
       "1  Израиль эвакуировал из Сирии активистов «Белых...   \n",
       "2  Лондонский «Челси» отказался продать мадридско...   \n",
       "3  Вице-президент Федерации профессионального бок...   \n",
       "4  Журнал Billboard опубликовал рейтинг самых выс...   \n",
       "\n",
       "                                          text_clean  \n",
       "0  украинский боксер александр усик рассказал что...  \n",
       "1  израиль эвакуировал из сирии активистов белых ...  \n",
       "2  лондонский челси отказался продать мадридскому...  \n",
       "3  вицепрезидент федерации профессионального бокс...  \n",
       "4  журнал billboard опубликовал рейтинг самых выс...  "
      ]
     },
     "execution_count": 10,
     "metadata": {},
     "output_type": "execute_result"
    }
   ],
   "source": [
    "df.head()"
   ]
  },
  {
   "cell_type": "code",
   "execution_count": 11,
   "metadata": {
    "ExecuteTime": {
     "end_time": "2018-12-17T23:57:14.596064Z",
     "start_time": "2018-12-17T23:55:30.837054Z"
    }
   },
   "outputs": [
    {
     "name": "stdout",
     "output_type": "stream",
     "text": [
      "CPU times: user 36.2 s, sys: 43.5 s, total: 1min 19s\n",
      "Wall time: 1min 43s\n"
     ]
    }
   ],
   "source": [
    "%%time\n",
    "df[['url','text_clean']].to_csv('data/news_lenta_clean.csv',index=False)"
   ]
  },
  {
   "cell_type": "code",
   "execution_count": 6,
   "metadata": {
    "ExecuteTime": {
     "end_time": "2018-12-18T23:21:27.486269Z",
     "start_time": "2018-12-18T23:20:50.666870Z"
    }
   },
   "outputs": [
    {
     "name": "stdout",
     "output_type": "stream",
     "text": [
      "(699777, 2)\n"
     ]
    },
    {
     "data": {
      "text/html": [
       "<div>\n",
       "<style scoped>\n",
       "    .dataframe tbody tr th:only-of-type {\n",
       "        vertical-align: middle;\n",
       "    }\n",
       "\n",
       "    .dataframe tbody tr th {\n",
       "        vertical-align: top;\n",
       "    }\n",
       "\n",
       "    .dataframe thead th {\n",
       "        text-align: right;\n",
       "    }\n",
       "</style>\n",
       "<table border=\"1\" class=\"dataframe\">\n",
       "  <thead>\n",
       "    <tr style=\"text-align: right;\">\n",
       "      <th></th>\n",
       "      <th>url</th>\n",
       "      <th>text_clean</th>\n",
       "    </tr>\n",
       "  </thead>\n",
       "  <tbody>\n",
       "    <tr>\n",
       "      <th>0</th>\n",
       "      <td>https://lenta.ru/news/2018/07/22/usik_plany/</td>\n",
       "      <td>украинский боксер александр усик рассказал что...</td>\n",
       "    </tr>\n",
       "    <tr>\n",
       "      <th>1</th>\n",
       "      <td>https://lenta.ru/news/2018/07/22/evacuation/</td>\n",
       "      <td>израиль эвакуировал из сирии активистов белых ...</td>\n",
       "    </tr>\n",
       "  </tbody>\n",
       "</table>\n",
       "</div>"
      ],
      "text/plain": [
       "                                            url  \\\n",
       "0  https://lenta.ru/news/2018/07/22/usik_plany/   \n",
       "1  https://lenta.ru/news/2018/07/22/evacuation/   \n",
       "\n",
       "                                          text_clean  \n",
       "0  украинский боксер александр усик рассказал что...  \n",
       "1  израиль эвакуировал из сирии активистов белых ...  "
      ]
     },
     "execution_count": 6,
     "metadata": {},
     "output_type": "execute_result"
    }
   ],
   "source": [
    "df = pd.read_csv('data/news_lenta_clean.csv')\n",
    "print(df.shape)\n",
    "df.head(2)"
   ]
  },
  {
   "cell_type": "markdown",
   "metadata": {},
   "source": [
    "---"
   ]
  },
  {
   "cell_type": "markdown",
   "metadata": {},
   "source": [
    "### take our dataset with some names like `cleaned names`"
   ]
  },
  {
   "cell_type": "code",
   "execution_count": 453,
   "metadata": {
    "ExecuteTime": {
     "end_time": "2018-12-20T22:08:19.290638Z",
     "start_time": "2018-12-20T22:08:19.194424Z"
    }
   },
   "outputs": [
    {
     "name": "stdout",
     "output_type": "stream",
     "text": [
      "(2201, 5)\n"
     ]
    },
    {
     "data": {
      "text/html": [
       "<div>\n",
       "<style scoped>\n",
       "    .dataframe tbody tr th:only-of-type {\n",
       "        vertical-align: middle;\n",
       "    }\n",
       "\n",
       "    .dataframe tbody tr th {\n",
       "        vertical-align: top;\n",
       "    }\n",
       "\n",
       "    .dataframe thead th {\n",
       "        text-align: right;\n",
       "    }\n",
       "</style>\n",
       "<table border=\"1\" class=\"dataframe\">\n",
       "  <thead>\n",
       "    <tr style=\"text-align: right;\">\n",
       "      <th></th>\n",
       "      <th>cleaned_name</th>\n",
       "      <th>has_namesake</th>\n",
       "      <th>names( from text)</th>\n",
       "      <th>cases</th>\n",
       "      <th>surname_cases</th>\n",
       "    </tr>\n",
       "  </thead>\n",
       "  <tbody>\n",
       "    <tr>\n",
       "      <th>0</th>\n",
       "      <td>аба бакр аль-багдади</td>\n",
       "      <td>False</td>\n",
       "      <td>Абу Бакр аль-Багдади,Абу Бакра Аль-Багдади,Абу...</td>\n",
       "      <td>аба бакр аль-багдади,абе бакр альбагдад,абой б...</td>\n",
       "      <td>аль-багдади, альбагдад</td>\n",
       "    </tr>\n",
       "    <tr>\n",
       "      <th>1</th>\n",
       "      <td>абд раббо мансур хади</td>\n",
       "      <td>False</td>\n",
       "      <td>Абд Раббо Мансур Хади,Абд Раббо Мансура Хади</td>\n",
       "      <td>абде раббо мансур хади, абдом раббо мансур ха...</td>\n",
       "      <td>хади</td>\n",
       "    </tr>\n",
       "    <tr>\n",
       "      <th>2</th>\n",
       "      <td>абдулла абдулла</td>\n",
       "      <td>False</td>\n",
       "      <td>Абдулла Абдулла,Абдулле Абдулле,Абдуллой Абдул...</td>\n",
       "      <td>абдулла абдулла,абдулле абдулле,абдуллой абдул...</td>\n",
       "      <td>абдулла, абдулле, абдуллой, абдуллу</td>\n",
       "    </tr>\n",
       "    <tr>\n",
       "      <th>3</th>\n",
       "      <td>абдулла гюль</td>\n",
       "      <td>False</td>\n",
       "      <td>Абдулла Гюль,Абдулле Гюлю,Абдуллу Гюля,Абдуллы...</td>\n",
       "      <td>абдулла гюле,абдулла гюлем,абдулла гюль,абдулл...</td>\n",
       "      <td>гюле, гюлем, гюль, гюлю</td>\n",
       "    </tr>\n",
       "    <tr>\n",
       "      <th>4</th>\n",
       "      <td>абубакар шекау</td>\n",
       "      <td>False</td>\n",
       "      <td>Абубакар Шекау,Абубакара Шекау</td>\n",
       "      <td>абубакар шекау,абубакара шекау,абубакаре шекау...</td>\n",
       "      <td>шекау</td>\n",
       "    </tr>\n",
       "  </tbody>\n",
       "</table>\n",
       "</div>"
      ],
      "text/plain": [
       "            cleaned_name  has_namesake  \\\n",
       "0   аба бакр аль-багдади         False   \n",
       "1  абд раббо мансур хади         False   \n",
       "2        абдулла абдулла         False   \n",
       "3           абдулла гюль         False   \n",
       "4         абубакар шекау         False   \n",
       "\n",
       "                                   names( from text)  \\\n",
       "0  Абу Бакр аль-Багдади,Абу Бакра Аль-Багдади,Абу...   \n",
       "1       Абд Раббо Мансур Хади,Абд Раббо Мансура Хади   \n",
       "2  Абдулла Абдулла,Абдулле Абдулле,Абдуллой Абдул...   \n",
       "3  Абдулла Гюль,Абдулле Гюлю,Абдуллу Гюля,Абдуллы...   \n",
       "4                     Абубакар Шекау,Абубакара Шекау   \n",
       "\n",
       "                                               cases  \\\n",
       "0  аба бакр аль-багдади,абе бакр альбагдад,абой б...   \n",
       "1   абде раббо мансур хади, абдом раббо мансур ха...   \n",
       "2  абдулла абдулла,абдулле абдулле,абдуллой абдул...   \n",
       "3  абдулла гюле,абдулла гюлем,абдулла гюль,абдулл...   \n",
       "4  абубакар шекау,абубакара шекау,абубакаре шекау...   \n",
       "\n",
       "                          surname_cases  \n",
       "0                аль-багдади, альбагдад  \n",
       "1                                  хади  \n",
       "2   абдулла, абдулле, абдуллой, абдуллу  \n",
       "3               гюле, гюлем, гюль, гюлю  \n",
       "4                                 шекау  "
      ]
     },
     "execution_count": 453,
     "metadata": {},
     "output_type": "execute_result"
    }
   ],
   "source": [
    "cleaned_name = pd.read_csv('data/cleaned_names.csv')\n",
    "print(cleaned_name.shape)\n",
    "cleaned_name.head()"
   ]
  },
  {
   "cell_type": "markdown",
   "metadata": {},
   "source": [
    "concat 2 columns `cases` & `surname cases`"
   ]
  },
  {
   "cell_type": "code",
   "execution_count": 454,
   "metadata": {
    "ExecuteTime": {
     "end_time": "2018-12-20T22:08:20.937079Z",
     "start_time": "2018-12-20T22:08:20.872043Z"
    }
   },
   "outputs": [
    {
     "data": {
      "text/html": [
       "<div>\n",
       "<style scoped>\n",
       "    .dataframe tbody tr th:only-of-type {\n",
       "        vertical-align: middle;\n",
       "    }\n",
       "\n",
       "    .dataframe tbody tr th {\n",
       "        vertical-align: top;\n",
       "    }\n",
       "\n",
       "    .dataframe thead th {\n",
       "        text-align: right;\n",
       "    }\n",
       "</style>\n",
       "<table border=\"1\" class=\"dataframe\">\n",
       "  <thead>\n",
       "    <tr style=\"text-align: right;\">\n",
       "      <th></th>\n",
       "      <th>cleaned_name</th>\n",
       "      <th>has_namesake</th>\n",
       "      <th>names( from text)</th>\n",
       "      <th>cases</th>\n",
       "      <th>surname_cases</th>\n",
       "    </tr>\n",
       "  </thead>\n",
       "  <tbody>\n",
       "    <tr>\n",
       "      <th>0</th>\n",
       "      <td>аба бакр аль-багдади</td>\n",
       "      <td>False</td>\n",
       "      <td>Абу Бакр аль-Багдади,Абу Бакра Аль-Багдади,Абу...</td>\n",
       "      <td>аба бакр аль-багдади,абе бакр альбагдад,абой б...</td>\n",
       "      <td>аль-багдади, альбагдад</td>\n",
       "    </tr>\n",
       "    <tr>\n",
       "      <th>1</th>\n",
       "      <td>абд раббо мансур хади</td>\n",
       "      <td>False</td>\n",
       "      <td>Абд Раббо Мансур Хади,Абд Раббо Мансура Хади</td>\n",
       "      <td>абде раббо мансур хади, абдом раббо мансур ха...</td>\n",
       "      <td>хади</td>\n",
       "    </tr>\n",
       "    <tr>\n",
       "      <th>2</th>\n",
       "      <td>абдулла абдулла</td>\n",
       "      <td>False</td>\n",
       "      <td>Абдулла Абдулла,Абдулле Абдулле,Абдуллой Абдул...</td>\n",
       "      <td>абдулла абдулла,абдулле абдулле,абдуллой абдул...</td>\n",
       "      <td>абдулла, абдулле, абдуллой, абдуллу</td>\n",
       "    </tr>\n",
       "    <tr>\n",
       "      <th>3</th>\n",
       "      <td>абдулла гюль</td>\n",
       "      <td>False</td>\n",
       "      <td>Абдулла Гюль,Абдулле Гюлю,Абдуллу Гюля,Абдуллы...</td>\n",
       "      <td>абдулла гюле,абдулла гюлем,абдулла гюль,абдулл...</td>\n",
       "      <td>гюле, гюлем, гюль, гюлю</td>\n",
       "    </tr>\n",
       "    <tr>\n",
       "      <th>4</th>\n",
       "      <td>абубакар шекау</td>\n",
       "      <td>False</td>\n",
       "      <td>Абубакар Шекау,Абубакара Шекау</td>\n",
       "      <td>абубакар шекау,абубакара шекау,абубакаре шекау...</td>\n",
       "      <td>шекау</td>\n",
       "    </tr>\n",
       "  </tbody>\n",
       "</table>\n",
       "</div>"
      ],
      "text/plain": [
       "            cleaned_name  has_namesake  \\\n",
       "0   аба бакр аль-багдади         False   \n",
       "1  абд раббо мансур хади         False   \n",
       "2        абдулла абдулла         False   \n",
       "3           абдулла гюль         False   \n",
       "4         абубакар шекау         False   \n",
       "\n",
       "                                   names( from text)  \\\n",
       "0  Абу Бакр аль-Багдади,Абу Бакра Аль-Багдади,Абу...   \n",
       "1       Абд Раббо Мансур Хади,Абд Раббо Мансура Хади   \n",
       "2  Абдулла Абдулла,Абдулле Абдулле,Абдуллой Абдул...   \n",
       "3  Абдулла Гюль,Абдулле Гюлю,Абдуллу Гюля,Абдуллы...   \n",
       "4                     Абубакар Шекау,Абубакара Шекау   \n",
       "\n",
       "                                               cases  \\\n",
       "0  аба бакр аль-багдади,абе бакр альбагдад,абой б...   \n",
       "1   абде раббо мансур хади, абдом раббо мансур ха...   \n",
       "2  абдулла абдулла,абдулле абдулле,абдуллой абдул...   \n",
       "3  абдулла гюле,абдулла гюлем,абдулла гюль,абдулл...   \n",
       "4  абубакар шекау,абубакара шекау,абубакаре шекау...   \n",
       "\n",
       "                          surname_cases  \n",
       "0                аль-багдади, альбагдад  \n",
       "1                                  хади  \n",
       "2   абдулла, абдулле, абдуллой, абдуллу  \n",
       "3               гюле, гюлем, гюль, гюлю  \n",
       "4                                 шекау  "
      ]
     },
     "execution_count": 454,
     "metadata": {},
     "output_type": "execute_result"
    }
   ],
   "source": [
    "#cleaned_name['cases'] = cleaned_name['cases']+','+cleaned_name['surname_cases']\n",
    "cleaned_name.head()"
   ]
  },
  {
   "cell_type": "markdown",
   "metadata": {},
   "source": [
    "leave raws where mark `has_namesake = False`"
   ]
  },
  {
   "cell_type": "code",
   "execution_count": 455,
   "metadata": {
    "ExecuteTime": {
     "end_time": "2018-12-20T22:08:46.581506Z",
     "start_time": "2018-12-20T22:08:46.507587Z"
    },
    "scrolled": true
   },
   "outputs": [
    {
     "name": "stdout",
     "output_type": "stream",
     "text": [
      "(1788, 3)\n"
     ]
    },
    {
     "data": {
      "text/html": [
       "<div>\n",
       "<style scoped>\n",
       "    .dataframe tbody tr th:only-of-type {\n",
       "        vertical-align: middle;\n",
       "    }\n",
       "\n",
       "    .dataframe tbody tr th {\n",
       "        vertical-align: top;\n",
       "    }\n",
       "\n",
       "    .dataframe thead th {\n",
       "        text-align: right;\n",
       "    }\n",
       "</style>\n",
       "<table border=\"1\" class=\"dataframe\">\n",
       "  <thead>\n",
       "    <tr style=\"text-align: right;\">\n",
       "      <th></th>\n",
       "      <th>has_namesake</th>\n",
       "      <th>cleaned_name</th>\n",
       "      <th>cases</th>\n",
       "    </tr>\n",
       "  </thead>\n",
       "  <tbody>\n",
       "    <tr>\n",
       "      <th>0</th>\n",
       "      <td>False</td>\n",
       "      <td>аба бакр аль-багдади</td>\n",
       "      <td>аба бакр аль-багдади,абе бакр альбагдад,абой б...</td>\n",
       "    </tr>\n",
       "    <tr>\n",
       "      <th>1</th>\n",
       "      <td>False</td>\n",
       "      <td>абд раббо мансур хади</td>\n",
       "      <td>абде раббо мансур хади, абдом раббо мансур ха...</td>\n",
       "    </tr>\n",
       "    <tr>\n",
       "      <th>2</th>\n",
       "      <td>False</td>\n",
       "      <td>абдулла абдулла</td>\n",
       "      <td>абдулла абдулла,абдулле абдулле,абдуллой абдул...</td>\n",
       "    </tr>\n",
       "    <tr>\n",
       "      <th>3</th>\n",
       "      <td>False</td>\n",
       "      <td>абдулла гюль</td>\n",
       "      <td>абдулла гюле,абдулла гюлем,абдулла гюль,абдулл...</td>\n",
       "    </tr>\n",
       "    <tr>\n",
       "      <th>4</th>\n",
       "      <td>False</td>\n",
       "      <td>абубакар шекау</td>\n",
       "      <td>абубакар шекау,абубакара шекау,абубакаре шекау...</td>\n",
       "    </tr>\n",
       "  </tbody>\n",
       "</table>\n",
       "</div>"
      ],
      "text/plain": [
       "   has_namesake           cleaned_name  \\\n",
       "0         False   аба бакр аль-багдади   \n",
       "1         False  абд раббо мансур хади   \n",
       "2         False        абдулла абдулла   \n",
       "3         False           абдулла гюль   \n",
       "4         False         абубакар шекау   \n",
       "\n",
       "                                               cases  \n",
       "0  аба бакр аль-багдади,абе бакр альбагдад,абой б...  \n",
       "1   абде раббо мансур хади, абдом раббо мансур ха...  \n",
       "2  абдулла абдулла,абдулле абдулле,абдуллой абдул...  \n",
       "3  абдулла гюле,абдулла гюлем,абдулла гюль,абдулл...  \n",
       "4  абубакар шекау,абубакара шекау,абубакаре шекау...  "
      ]
     },
     "execution_count": 455,
     "metadata": {},
     "output_type": "execute_result"
    }
   ],
   "source": [
    "cleaned_name = cleaned_name[['has_namesake','cleaned_name','cases']].copy()\n",
    "cleaned_name = cleaned_name[cleaned_name.has_namesake == 0]\n",
    "print(cleaned_name.shape)\n",
    "cleaned_name.head()"
   ]
  },
  {
   "cell_type": "code",
   "execution_count": null,
   "metadata": {},
   "outputs": [],
   "source": []
  },
  {
   "cell_type": "markdown",
   "metadata": {},
   "source": [
    "### edit cleaned_name\n",
    "* leave only the 1st value if we have they a few\n",
    "* join via `_` splitting `,`"
   ]
  },
  {
   "cell_type": "code",
   "execution_count": 456,
   "metadata": {
    "ExecuteTime": {
     "end_time": "2018-12-20T22:08:50.915444Z",
     "start_time": "2018-12-20T22:08:50.793270Z"
    }
   },
   "outputs": [
    {
     "data": {
      "text/html": [
       "<div>\n",
       "<style scoped>\n",
       "    .dataframe tbody tr th:only-of-type {\n",
       "        vertical-align: middle;\n",
       "    }\n",
       "\n",
       "    .dataframe tbody tr th {\n",
       "        vertical-align: top;\n",
       "    }\n",
       "\n",
       "    .dataframe thead th {\n",
       "        text-align: right;\n",
       "    }\n",
       "</style>\n",
       "<table border=\"1\" class=\"dataframe\">\n",
       "  <thead>\n",
       "    <tr style=\"text-align: right;\">\n",
       "      <th></th>\n",
       "      <th>has_namesake</th>\n",
       "      <th>cleaned_name</th>\n",
       "      <th>cases</th>\n",
       "      <th>cleaned_name_new</th>\n",
       "    </tr>\n",
       "  </thead>\n",
       "  <tbody>\n",
       "    <tr>\n",
       "      <th>0</th>\n",
       "      <td>False</td>\n",
       "      <td>аба бакр аль-багдади</td>\n",
       "      <td>аба бакр аль-багдади,абе бакр альбагдад,абой б...</td>\n",
       "      <td>аба_бакр_аль-багдади</td>\n",
       "    </tr>\n",
       "    <tr>\n",
       "      <th>1</th>\n",
       "      <td>False</td>\n",
       "      <td>абд раббо мансур хади</td>\n",
       "      <td>абде раббо мансур хади, абдом раббо мансур ха...</td>\n",
       "      <td>абд_раббо_мансур_хади</td>\n",
       "    </tr>\n",
       "    <tr>\n",
       "      <th>2</th>\n",
       "      <td>False</td>\n",
       "      <td>абдулла абдулла</td>\n",
       "      <td>абдулла абдулла,абдулле абдулле,абдуллой абдул...</td>\n",
       "      <td>абдулла_абдулла</td>\n",
       "    </tr>\n",
       "    <tr>\n",
       "      <th>3</th>\n",
       "      <td>False</td>\n",
       "      <td>абдулла гюль</td>\n",
       "      <td>абдулла гюле,абдулла гюлем,абдулла гюль,абдулл...</td>\n",
       "      <td>абдулла_гюль</td>\n",
       "    </tr>\n",
       "    <tr>\n",
       "      <th>4</th>\n",
       "      <td>False</td>\n",
       "      <td>абубакар шекау</td>\n",
       "      <td>абубакар шекау,абубакара шекау,абубакаре шекау...</td>\n",
       "      <td>абубакар_шекау</td>\n",
       "    </tr>\n",
       "  </tbody>\n",
       "</table>\n",
       "</div>"
      ],
      "text/plain": [
       "   has_namesake           cleaned_name  \\\n",
       "0         False   аба бакр аль-багдади   \n",
       "1         False  абд раббо мансур хади   \n",
       "2         False        абдулла абдулла   \n",
       "3         False           абдулла гюль   \n",
       "4         False         абубакар шекау   \n",
       "\n",
       "                                               cases       cleaned_name_new  \n",
       "0  аба бакр аль-багдади,абе бакр альбагдад,абой б...   аба_бакр_аль-багдади  \n",
       "1   абде раббо мансур хади, абдом раббо мансур ха...  абд_раббо_мансур_хади  \n",
       "2  абдулла абдулла,абдулле абдулле,абдуллой абдул...        абдулла_абдулла  \n",
       "3  абдулла гюле,абдулла гюлем,абдулла гюль,абдулл...           абдулла_гюль  \n",
       "4  абубакар шекау,абубакара шекау,абубакаре шекау...         абубакар_шекау  "
      ]
     },
     "execution_count": 456,
     "metadata": {},
     "output_type": "execute_result"
    }
   ],
   "source": [
    "cleaned_name['cleaned_name_new'] = cleaned_name.cleaned_name\\\n",
    "                                   .apply(lambda x: '_'.join(x.split(',')[0]\\\n",
    "                                                              .split(' ')))\n",
    "cleaned_name.head()"
   ]
  },
  {
   "cell_type": "code",
   "execution_count": null,
   "metadata": {},
   "outputs": [],
   "source": []
  },
  {
   "cell_type": "markdown",
   "metadata": {},
   "source": [
    "### edit cases\n",
    "\n",
    "create the list all possible mentions dropping whitespace name"
   ]
  },
  {
   "cell_type": "markdown",
   "metadata": {},
   "source": [
    "drop null values"
   ]
  },
  {
   "cell_type": "code",
   "execution_count": 458,
   "metadata": {
    "ExecuteTime": {
     "end_time": "2018-12-20T22:09:16.655165Z",
     "start_time": "2018-12-20T22:09:16.620402Z"
    }
   },
   "outputs": [],
   "source": [
    "cleaned_name = cleaned_name[cleaned_name.cases.notnull()]"
   ]
  },
  {
   "cell_type": "markdown",
   "metadata": {},
   "source": [
    "create list"
   ]
  },
  {
   "cell_type": "code",
   "execution_count": 459,
   "metadata": {
    "ExecuteTime": {
     "end_time": "2018-12-20T22:09:27.615442Z",
     "start_time": "2018-12-20T22:09:27.559419Z"
    }
   },
   "outputs": [
    {
     "data": {
      "text/html": [
       "<div>\n",
       "<style scoped>\n",
       "    .dataframe tbody tr th:only-of-type {\n",
       "        vertical-align: middle;\n",
       "    }\n",
       "\n",
       "    .dataframe tbody tr th {\n",
       "        vertical-align: top;\n",
       "    }\n",
       "\n",
       "    .dataframe thead th {\n",
       "        text-align: right;\n",
       "    }\n",
       "</style>\n",
       "<table border=\"1\" class=\"dataframe\">\n",
       "  <thead>\n",
       "    <tr style=\"text-align: right;\">\n",
       "      <th></th>\n",
       "      <th>has_namesake</th>\n",
       "      <th>cleaned_name</th>\n",
       "      <th>cases</th>\n",
       "      <th>cleaned_name_new</th>\n",
       "      <th>cases_new</th>\n",
       "    </tr>\n",
       "  </thead>\n",
       "  <tbody>\n",
       "    <tr>\n",
       "      <th>0</th>\n",
       "      <td>False</td>\n",
       "      <td>аба бакр аль-багдади</td>\n",
       "      <td>аба бакр аль-багдади,абе бакр альбагдад,абой б...</td>\n",
       "      <td>аба_бакр_аль-багдади</td>\n",
       "      <td>[аба бакр аль-багдади, абе бакр альбагдад, або...</td>\n",
       "    </tr>\n",
       "    <tr>\n",
       "      <th>1</th>\n",
       "      <td>False</td>\n",
       "      <td>абд раббо мансур хади</td>\n",
       "      <td>абде раббо мансур хади, абдом раббо мансур ха...</td>\n",
       "      <td>абд_раббо_мансур_хади</td>\n",
       "      <td>[абде раббо мансур хади, абдом раббо мансур ха...</td>\n",
       "    </tr>\n",
       "    <tr>\n",
       "      <th>2</th>\n",
       "      <td>False</td>\n",
       "      <td>абдулла абдулла</td>\n",
       "      <td>абдулла абдулла,абдулле абдулле,абдуллой абдул...</td>\n",
       "      <td>абдулла_абдулла</td>\n",
       "      <td>[абдулла абдулла, абдулле абдулле, абдуллой аб...</td>\n",
       "    </tr>\n",
       "    <tr>\n",
       "      <th>3</th>\n",
       "      <td>False</td>\n",
       "      <td>абдулла гюль</td>\n",
       "      <td>абдулла гюле,абдулла гюлем,абдулла гюль,абдулл...</td>\n",
       "      <td>абдулла_гюль</td>\n",
       "      <td>[абдулла гюле, абдулла гюлем, абдулла гюль, аб...</td>\n",
       "    </tr>\n",
       "    <tr>\n",
       "      <th>4</th>\n",
       "      <td>False</td>\n",
       "      <td>абубакар шекау</td>\n",
       "      <td>абубакар шекау,абубакара шекау,абубакаре шекау...</td>\n",
       "      <td>абубакар_шекау</td>\n",
       "      <td>[абубакар шекау, абубакара шекау, абубакаре ше...</td>\n",
       "    </tr>\n",
       "  </tbody>\n",
       "</table>\n",
       "</div>"
      ],
      "text/plain": [
       "   has_namesake           cleaned_name  \\\n",
       "0         False   аба бакр аль-багдади   \n",
       "1         False  абд раббо мансур хади   \n",
       "2         False        абдулла абдулла   \n",
       "3         False           абдулла гюль   \n",
       "4         False         абубакар шекау   \n",
       "\n",
       "                                               cases       cleaned_name_new  \\\n",
       "0  аба бакр аль-багдади,абе бакр альбагдад,абой б...   аба_бакр_аль-багдади   \n",
       "1   абде раббо мансур хади, абдом раббо мансур ха...  абд_раббо_мансур_хади   \n",
       "2  абдулла абдулла,абдулле абдулле,абдуллой абдул...        абдулла_абдулла   \n",
       "3  абдулла гюле,абдулла гюлем,абдулла гюль,абдулл...           абдулла_гюль   \n",
       "4  абубакар шекау,абубакара шекау,абубакаре шекау...         абубакар_шекау   \n",
       "\n",
       "                                           cases_new  \n",
       "0  [аба бакр аль-багдади, абе бакр альбагдад, або...  \n",
       "1  [абде раббо мансур хади, абдом раббо мансур ха...  \n",
       "2  [абдулла абдулла, абдулле абдулле, абдуллой аб...  \n",
       "3  [абдулла гюле, абдулла гюлем, абдулла гюль, аб...  \n",
       "4  [абубакар шекау, абубакара шекау, абубакаре ше...  "
      ]
     },
     "execution_count": 459,
     "metadata": {},
     "output_type": "execute_result"
    }
   ],
   "source": [
    "cleaned_name['cases_new'] = cleaned_name.cases.apply(lambda x: [i.strip() for i in x.split(',')])\n",
    "cleaned_name.head()"
   ]
  },
  {
   "cell_type": "code",
   "execution_count": null,
   "metadata": {},
   "outputs": [],
   "source": []
  },
  {
   "cell_type": "markdown",
   "metadata": {},
   "source": [
    "---"
   ]
  },
  {
   "cell_type": "markdown",
   "metadata": {},
   "source": [
    "## test some approaches to find some words in the article & replace them"
   ]
  },
  {
   "cell_type": "markdown",
   "metadata": {
    "ExecuteTime": {
     "end_time": "2018-12-19T22:30:17.338141Z",
     "start_time": "2018-12-19T22:30:17.237679Z"
    }
   },
   "source": [
    "* ### re"
   ]
  },
  {
   "cell_type": "code",
   "execution_count": 110,
   "metadata": {
    "ExecuteTime": {
     "end_time": "2018-12-18T23:59:55.638397Z",
     "start_time": "2018-12-18T23:59:55.594265Z"
    }
   },
   "outputs": [
    {
     "data": {
      "text/plain": [
       "'** ** acc'"
      ]
     },
     "execution_count": 110,
     "metadata": {},
     "output_type": "execute_result"
    }
   ],
   "source": [
    "text='abc dd acc'\n",
    "re.sub('(abc|dd)', '**', text)"
   ]
  },
  {
   "cell_type": "markdown",
   "metadata": {},
   "source": [
    "* ### ahocorasick"
   ]
  },
  {
   "cell_type": "code",
   "execution_count": 112,
   "metadata": {
    "ExecuteTime": {
     "end_time": "2018-12-19T00:01:52.729420Z",
     "start_time": "2018-12-19T00:01:52.685337Z"
    }
   },
   "outputs": [],
   "source": [
    "# https://github.com/WojciechMula/pyahocorasick/#examples\n",
    "# pip install pyahocorasick\n",
    "import ahocorasick "
   ]
  },
  {
   "cell_type": "code",
   "execution_count": 113,
   "metadata": {
    "ExecuteTime": {
     "end_time": "2018-12-19T00:02:09.756209Z",
     "start_time": "2018-12-19T00:02:09.721459Z"
    }
   },
   "outputs": [],
   "source": [
    "A = ahocorasick.Automaton()"
   ]
  },
  {
   "cell_type": "code",
   "execution_count": 115,
   "metadata": {
    "ExecuteTime": {
     "end_time": "2018-12-19T00:02:36.189442Z",
     "start_time": "2018-12-19T00:02:36.154780Z"
    }
   },
   "outputs": [],
   "source": [
    "for index, word in enumerate('he her hers she'.split()):\n",
    "    A.add_word(word, (index, word))\n",
    "\n",
    "A.make_automaton()"
   ]
  },
  {
   "cell_type": "code",
   "execution_count": 118,
   "metadata": {
    "ExecuteTime": {
     "end_time": "2018-12-19T00:03:35.321528Z",
     "start_time": "2018-12-19T00:03:35.282740Z"
    }
   },
   "outputs": [
    {
     "data": {
      "text/plain": [
       "(0, 'he')"
      ]
     },
     "execution_count": 118,
     "metadata": {},
     "output_type": "execute_result"
    }
   ],
   "source": [
    "A.get('he')"
   ]
  },
  {
   "cell_type": "code",
   "execution_count": 119,
   "metadata": {
    "ExecuteTime": {
     "end_time": "2018-12-19T00:03:45.200366Z",
     "start_time": "2018-12-19T00:03:45.162031Z"
    }
   },
   "outputs": [
    {
     "data": {
      "text/plain": [
       "(2, 'hers')"
      ]
     },
     "execution_count": 119,
     "metadata": {},
     "output_type": "execute_result"
    }
   ],
   "source": [
    "A."
   ]
  },
  {
   "cell_type": "code",
   "execution_count": 130,
   "metadata": {
    "ExecuteTime": {
     "end_time": "2018-12-19T00:06:35.354310Z",
     "start_time": "2018-12-19T00:06:35.317320Z"
    }
   },
   "outputs": [
    {
     "data": {
      "text/plain": [
       "['she', 'he', 'her', 'hers']"
      ]
     },
     "execution_count": 130,
     "metadata": {},
     "output_type": "execute_result"
    }
   ],
   "source": [
    "[i for i in A.keys()]"
   ]
  },
  {
   "cell_type": "code",
   "execution_count": 117,
   "metadata": {
    "ExecuteTime": {
     "end_time": "2018-12-19T00:02:55.628012Z",
     "start_time": "2018-12-19T00:02:55.571532Z"
    }
   },
   "outputs": [
    {
     "data": {
      "text/plain": [
       "[(2, (0, 'he')),\n",
       " (3, (1, 'her')),\n",
       " (4, (2, 'hers')),\n",
       " (6, (3, 'she')),\n",
       " (6, (0, 'he'))]"
      ]
     },
     "execution_count": 117,
     "metadata": {},
     "output_type": "execute_result"
    }
   ],
   "source": [
    "[item for item in A.iter('_hershe_')]"
   ]
  },
  {
   "cell_type": "markdown",
   "metadata": {},
   "source": [
    "=> the don't have replace"
   ]
  },
  {
   "cell_type": "code",
   "execution_count": null,
   "metadata": {},
   "outputs": [],
   "source": []
  },
  {
   "cell_type": "markdown",
   "metadata": {},
   "source": [
    "* ### flashtext"
   ]
  },
  {
   "cell_type": "code",
   "execution_count": 251,
   "metadata": {
    "ExecuteTime": {
     "end_time": "2018-12-19T23:30:23.952569Z",
     "start_time": "2018-12-19T23:30:23.916959Z"
    }
   },
   "outputs": [],
   "source": [
    "# https://github.com/vi3k6i5/flashtext\n",
    "# !pip install flashtext\n",
    "from flashtext import KeywordProcessor"
   ]
  },
  {
   "cell_type": "markdown",
   "metadata": {},
   "source": [
    "* 0"
   ]
  },
  {
   "cell_type": "code",
   "execution_count": 144,
   "metadata": {
    "ExecuteTime": {
     "end_time": "2018-12-19T00:21:06.106611Z",
     "start_time": "2018-12-19T00:21:06.070576Z"
    }
   },
   "outputs": [],
   "source": [
    "del keyword_processor\n",
    "keyword_processor = KeywordProcessor()"
   ]
  },
  {
   "cell_type": "code",
   "execution_count": 150,
   "metadata": {
    "ExecuteTime": {
     "end_time": "2018-12-19T00:21:25.369855Z",
     "start_time": "2018-12-19T00:21:25.330201Z"
    }
   },
   "outputs": [
    {
     "data": {
      "text/plain": [
       "True"
      ]
     },
     "execution_count": 150,
     "metadata": {},
     "output_type": "execute_result"
    }
   ],
   "source": [
    "keyword_processor.add_keyword('Apple Inc.','Apple')"
   ]
  },
  {
   "cell_type": "code",
   "execution_count": 151,
   "metadata": {
    "ExecuteTime": {
     "end_time": "2018-12-19T00:21:25.862095Z",
     "start_time": "2018-12-19T00:21:25.822217Z"
    }
   },
   "outputs": [],
   "source": [
    "text1 = '''Apple Inc. is an American multinational technology company headquartered in Cupertino, California, that designs, develops, and sells consumer electronics, computer software, and online services.'''"
   ]
  },
  {
   "cell_type": "code",
   "execution_count": 152,
   "metadata": {
    "ExecuteTime": {
     "end_time": "2018-12-19T00:21:26.231297Z",
     "start_time": "2018-12-19T00:21:26.189835Z"
    }
   },
   "outputs": [
    {
     "data": {
      "text/plain": [
       "['Apple']"
      ]
     },
     "execution_count": 152,
     "metadata": {},
     "output_type": "execute_result"
    }
   ],
   "source": [
    "keywords_found = keyword_processor.extract_keywords(text1)\n",
    "keywords_found"
   ]
  },
  {
   "cell_type": "code",
   "execution_count": 153,
   "metadata": {
    "ExecuteTime": {
     "end_time": "2018-12-19T00:21:27.031465Z",
     "start_time": "2018-12-19T00:21:26.994614Z"
    }
   },
   "outputs": [
    {
     "data": {
      "text/plain": [
       "'Apple is an American multinational technology company headquartered in Cupertino, California, that designs, develops, and sells consumer electronics, computer software, and online services.'"
      ]
     },
     "execution_count": 153,
     "metadata": {},
     "output_type": "execute_result"
    }
   ],
   "source": [
    "new_sentence = keyword_processor.replace_keywords(text1)\n",
    "new_sentence"
   ]
  },
  {
   "cell_type": "code",
   "execution_count": null,
   "metadata": {},
   "outputs": [],
   "source": []
  },
  {
   "cell_type": "markdown",
   "metadata": {},
   "source": [
    "* 1"
   ]
  },
  {
   "cell_type": "code",
   "execution_count": 172,
   "metadata": {
    "ExecuteTime": {
     "end_time": "2018-12-19T22:54:58.821294Z",
     "start_time": "2018-12-19T22:54:58.786470Z"
    }
   },
   "outputs": [],
   "source": [
    "del keyword_processor\n",
    "keyword_processor = KeywordProcessor()"
   ]
  },
  {
   "cell_type": "code",
   "execution_count": 173,
   "metadata": {
    "ExecuteTime": {
     "end_time": "2018-12-19T22:54:58.985293Z",
     "start_time": "2018-12-19T22:54:58.950558Z"
    }
   },
   "outputs": [],
   "source": [
    "keyword_dict = {\"*apple*\": [\"Apple Inc.\", \"Apple\"],\n",
    "                \"*california*\": [\"Cupertino\"]\n",
    "               }\n",
    "keyword_processor.add_keywords_from_dict(keyword_dict)"
   ]
  },
  {
   "cell_type": "code",
   "execution_count": 174,
   "metadata": {
    "ExecuteTime": {
     "end_time": "2018-12-19T22:54:59.148669Z",
     "start_time": "2018-12-19T22:54:59.111161Z"
    }
   },
   "outputs": [],
   "source": [
    "text2 = '''Apple Inc. is an American multinational technology company headquartered in Cupertino, California, that designs, develops, and sells consumer electronics, computer software, and online services.'''"
   ]
  },
  {
   "cell_type": "code",
   "execution_count": 175,
   "metadata": {
    "ExecuteTime": {
     "end_time": "2018-12-19T22:54:59.325868Z",
     "start_time": "2018-12-19T22:54:59.288696Z"
    }
   },
   "outputs": [
    {
     "data": {
      "text/plain": [
       "['*apple*', '*california*']"
      ]
     },
     "execution_count": 175,
     "metadata": {},
     "output_type": "execute_result"
    }
   ],
   "source": [
    "keywords_found = keyword_processor.extract_keywords(text2)\n",
    "keywords_found"
   ]
  },
  {
   "cell_type": "code",
   "execution_count": 176,
   "metadata": {
    "ExecuteTime": {
     "end_time": "2018-12-19T22:54:59.481916Z",
     "start_time": "2018-12-19T22:54:59.444220Z"
    }
   },
   "outputs": [
    {
     "data": {
      "text/plain": [
       "'*apple* is an American multinational technology company headquartered in *california*, California, that designs, develops, and sells consumer electronics, computer software, and online services.'"
      ]
     },
     "execution_count": 176,
     "metadata": {},
     "output_type": "execute_result"
    }
   ],
   "source": [
    "new_sentence = keyword_processor.replace_keywords(text2)\n",
    "new_sentence"
   ]
  },
  {
   "cell_type": "markdown",
   "metadata": {},
   "source": [
    "---"
   ]
  },
  {
   "cell_type": "markdown",
   "metadata": {},
   "source": [
    "---"
   ]
  },
  {
   "cell_type": "markdown",
   "metadata": {},
   "source": [
    "### create dict from our dataset where key is `cleaned_name_new` & values - `cases_new`"
   ]
  },
  {
   "cell_type": "code",
   "execution_count": 477,
   "metadata": {
    "ExecuteTime": {
     "end_time": "2018-12-20T22:22:04.811762Z",
     "start_time": "2018-12-20T22:22:04.764560Z"
    }
   },
   "outputs": [
    {
     "name": "stdout",
     "output_type": "stream",
     "text": [
      "(1788, 5)\n"
     ]
    },
    {
     "data": {
      "text/html": [
       "<div>\n",
       "<style scoped>\n",
       "    .dataframe tbody tr th:only-of-type {\n",
       "        vertical-align: middle;\n",
       "    }\n",
       "\n",
       "    .dataframe tbody tr th {\n",
       "        vertical-align: top;\n",
       "    }\n",
       "\n",
       "    .dataframe thead th {\n",
       "        text-align: right;\n",
       "    }\n",
       "</style>\n",
       "<table border=\"1\" class=\"dataframe\">\n",
       "  <thead>\n",
       "    <tr style=\"text-align: right;\">\n",
       "      <th></th>\n",
       "      <th>has_namesake</th>\n",
       "      <th>cleaned_name</th>\n",
       "      <th>cases</th>\n",
       "      <th>cleaned_name_new</th>\n",
       "      <th>cases_new</th>\n",
       "    </tr>\n",
       "  </thead>\n",
       "  <tbody>\n",
       "    <tr>\n",
       "      <th>0</th>\n",
       "      <td>False</td>\n",
       "      <td>аба бакр аль-багдади</td>\n",
       "      <td>аба бакр аль-багдади,абе бакр альбагдад,абой б...</td>\n",
       "      <td>аба_бакр_аль-багдади</td>\n",
       "      <td>[аба бакр аль-багдади, абе бакр альбагдад, або...</td>\n",
       "    </tr>\n",
       "    <tr>\n",
       "      <th>1</th>\n",
       "      <td>False</td>\n",
       "      <td>абд раббо мансур хади</td>\n",
       "      <td>абде раббо мансур хади, абдом раббо мансур ха...</td>\n",
       "      <td>абд_раббо_мансур_хади</td>\n",
       "      <td>[абде раббо мансур хади, абдом раббо мансур ха...</td>\n",
       "    </tr>\n",
       "  </tbody>\n",
       "</table>\n",
       "</div>"
      ],
      "text/plain": [
       "   has_namesake           cleaned_name  \\\n",
       "0         False   аба бакр аль-багдади   \n",
       "1         False  абд раббо мансур хади   \n",
       "\n",
       "                                               cases       cleaned_name_new  \\\n",
       "0  аба бакр аль-багдади,абе бакр альбагдад,абой б...   аба_бакр_аль-багдади   \n",
       "1   абде раббо мансур хади, абдом раббо мансур ха...  абд_раббо_мансур_хади   \n",
       "\n",
       "                                           cases_new  \n",
       "0  [аба бакр аль-багдади, абе бакр альбагдад, або...  \n",
       "1  [абде раббо мансур хади, абдом раббо мансур ха...  "
      ]
     },
     "execution_count": 477,
     "metadata": {},
     "output_type": "execute_result"
    }
   ],
   "source": [
    "print(cleaned_name.shape)\n",
    "cleaned_name.head(2)"
   ]
  },
  {
   "cell_type": "code",
   "execution_count": 478,
   "metadata": {
    "ExecuteTime": {
     "end_time": "2018-12-20T22:22:05.481266Z",
     "start_time": "2018-12-20T22:22:05.187458Z"
    }
   },
   "outputs": [
    {
     "name": "stdout",
     "output_type": "stream",
     "text": [
      "1788\n",
      "CPU times: user 254 ms, sys: 3.86 ms, total: 258 ms\n",
      "Wall time: 258 ms\n"
     ]
    }
   ],
   "source": [
    "%%time\n",
    "\n",
    "dict_cleaned_name={}\n",
    "for _,i in cleaned_name.iterrows():\n",
    "    dict_cleaned_name[f'{i.cleaned_name_new}']=i.cases_new\n",
    "    \n",
    "print(len(dict_cleaned_name))"
   ]
  },
  {
   "cell_type": "code",
   "execution_count": 487,
   "metadata": {
    "ExecuteTime": {
     "end_time": "2018-12-20T22:24:22.938885Z",
     "start_time": "2018-12-20T22:24:22.892554Z"
    }
   },
   "outputs": [
    {
     "data": {
      "text/plain": [
       "['виктор янукович',\n",
       " 'виктора януковича',\n",
       " 'викторе януковиче',\n",
       " 'виктором януковичем',\n",
       " 'виктору януковичу']"
      ]
     },
     "execution_count": 487,
     "metadata": {},
     "output_type": "execute_result"
    }
   ],
   "source": [
    "dict_cleaned_name['виктор_янукович']"
   ]
  },
  {
   "cell_type": "markdown",
   "metadata": {},
   "source": [
    "### try flashtext"
   ]
  },
  {
   "cell_type": "code",
   "execution_count": 495,
   "metadata": {
    "ExecuteTime": {
     "end_time": "2018-12-20T22:26:11.689969Z",
     "start_time": "2018-12-20T22:26:11.509411Z"
    }
   },
   "outputs": [
    {
     "data": {
      "text/plain": [
       "8474"
      ]
     },
     "execution_count": 495,
     "metadata": {},
     "output_type": "execute_result"
    }
   ],
   "source": [
    "del kp\n",
    "kp = KeywordProcessor()\n",
    "\n",
    "kp.add_keywords_from_dict(dict_cleaned_name)\n",
    "len(kp)"
   ]
  },
  {
   "cell_type": "code",
   "execution_count": 496,
   "metadata": {
    "ExecuteTime": {
     "end_time": "2018-12-20T22:26:12.121444Z",
     "start_time": "2018-12-20T22:26:12.070325Z"
    }
   },
   "outputs": [
    {
     "name": "stdout",
     "output_type": "stream",
     "text": [
      "['авраам_линкольн']\n",
      "абромавичус увидел гитлера и авраам_линкольн врезав алешине\n"
     ]
    }
   ],
   "source": [
    "text = '''абромавичус увидел гитлера и авраама линкольна врезав алешине'''\n",
    "print(kp.extract_keywords(text))\n",
    "print(kp.replace_keywords(text))"
   ]
  },
  {
   "cell_type": "code",
   "execution_count": null,
   "metadata": {},
   "outputs": [],
   "source": []
  },
  {
   "cell_type": "markdown",
   "metadata": {},
   "source": [
    "### replace words in our dataset"
   ]
  },
  {
   "cell_type": "code",
   "execution_count": 497,
   "metadata": {
    "ExecuteTime": {
     "end_time": "2018-12-20T22:26:13.953299Z",
     "start_time": "2018-12-20T22:26:13.908196Z"
    }
   },
   "outputs": [
    {
     "data": {
      "text/html": [
       "<div>\n",
       "<style scoped>\n",
       "    .dataframe tbody tr th:only-of-type {\n",
       "        vertical-align: middle;\n",
       "    }\n",
       "\n",
       "    .dataframe tbody tr th {\n",
       "        vertical-align: top;\n",
       "    }\n",
       "\n",
       "    .dataframe thead th {\n",
       "        text-align: right;\n",
       "    }\n",
       "</style>\n",
       "<table border=\"1\" class=\"dataframe\">\n",
       "  <thead>\n",
       "    <tr style=\"text-align: right;\">\n",
       "      <th></th>\n",
       "      <th>url</th>\n",
       "      <th>text_clean</th>\n",
       "    </tr>\n",
       "  </thead>\n",
       "  <tbody>\n",
       "    <tr>\n",
       "      <th>0</th>\n",
       "      <td>https://lenta.ru/news/2018/07/22/usik_plany/</td>\n",
       "      <td>украинский боксер александр усик рассказал что...</td>\n",
       "    </tr>\n",
       "    <tr>\n",
       "      <th>1</th>\n",
       "      <td>https://lenta.ru/news/2018/07/22/evacuation/</td>\n",
       "      <td>израиль эвакуировал из сирии активистов белых ...</td>\n",
       "    </tr>\n",
       "    <tr>\n",
       "      <th>2</th>\n",
       "      <td>https://lenta.ru/news/2018/07/22/hazard_real/</td>\n",
       "      <td>лондонский челси отказался продать мадридскому...</td>\n",
       "    </tr>\n",
       "    <tr>\n",
       "      <th>3</th>\n",
       "      <td>https://lenta.ru/news/2018/07/22/otvet/</td>\n",
       "      <td>вицепрезидент федерации профессионального бокс...</td>\n",
       "    </tr>\n",
       "    <tr>\n",
       "      <th>4</th>\n",
       "      <td>https://lenta.ru/news/2018/07/22/moneyrich/</td>\n",
       "      <td>журнал billboard опубликовал рейтинг самых выс...</td>\n",
       "    </tr>\n",
       "  </tbody>\n",
       "</table>\n",
       "</div>"
      ],
      "text/plain": [
       "                                             url  \\\n",
       "0   https://lenta.ru/news/2018/07/22/usik_plany/   \n",
       "1   https://lenta.ru/news/2018/07/22/evacuation/   \n",
       "2  https://lenta.ru/news/2018/07/22/hazard_real/   \n",
       "3        https://lenta.ru/news/2018/07/22/otvet/   \n",
       "4    https://lenta.ru/news/2018/07/22/moneyrich/   \n",
       "\n",
       "                                          text_clean  \n",
       "0  украинский боксер александр усик рассказал что...  \n",
       "1  израиль эвакуировал из сирии активистов белых ...  \n",
       "2  лондонский челси отказался продать мадридскому...  \n",
       "3  вицепрезидент федерации профессионального бокс...  \n",
       "4  журнал billboard опубликовал рейтинг самых выс...  "
      ]
     },
     "execution_count": 497,
     "metadata": {},
     "output_type": "execute_result"
    }
   ],
   "source": [
    "df.head()"
   ]
  },
  {
   "cell_type": "code",
   "execution_count": 499,
   "metadata": {
    "ExecuteTime": {
     "end_time": "2018-12-20T22:56:17.336193Z",
     "start_time": "2018-12-20T22:26:30.218534Z"
    }
   },
   "outputs": [
    {
     "name": "stdout",
     "output_type": "stream",
     "text": [
      "CPU times: user 28min 37s, sys: 31 s, total: 29min 8s\n",
      "Wall time: 29min 46s\n"
     ]
    }
   ],
   "source": [
    "%%time\n",
    "df['text_clean_name'] = df.text_clean.apply(lambda x: kp.replace_keywords(x))"
   ]
  },
  {
   "cell_type": "code",
   "execution_count": 218,
   "metadata": {
    "ExecuteTime": {
     "end_time": "2018-12-19T23:15:18.856194Z",
     "start_time": "2018-12-19T23:15:18.773899Z"
    },
    "collapsed": true,
    "jupyter": {
     "outputs_hidden": true
    }
   },
   "outputs": [
    {
     "data": {
      "text/plain": [
       "0    украмун_чжэ_инский боксер алексвиктор_андр уси...\n",
       "1    израиль эвакуким_чен_ировал из ским_чен_ирии а...\n",
       "2    лондонский челси отказался продать мадридскому...\n",
       "3    вицепрезидент федерации профессиоли_нального б...\n",
       "4    журли_нал billboard опубликовал рейтмун_чжэ_ин...\n",
       "5    бывшего участника сборной комвиктор_анды актоб...\n",
       "6    великобритвиктор_ания откажется от выплат отст...\n",
       "7    талисмвиктор_аны олимпийских и паралимпийских ...\n",
       "8    около российской базы хмеймим в ским_чен_ирии ...\n",
       "9    президент украмун_чжэ_ины петр_порошенко поздр...\n",
       "Name: text_clean, dtype: object"
      ]
     },
     "execution_count": 218,
     "metadata": {},
     "output_type": "execute_result"
    }
   ],
   "source": [
    "df.text_clean[:10].apply(lambda x: keyword_processor.replace_keywords(x))"
   ]
  },
  {
   "cell_type": "code",
   "execution_count": 500,
   "metadata": {
    "ExecuteTime": {
     "end_time": "2018-12-20T23:05:28.759015Z",
     "start_time": "2018-12-20T23:05:28.555802Z"
    }
   },
   "outputs": [
    {
     "data": {
      "text/plain": [
       "0    украинский боксер александр усик рассказал что...\n",
       "1    израиль эвакуировал из сирии активистов белых ...\n",
       "2    лондонский челси отказался продать мадридскому...\n",
       "3    вицепрезидент федерации профессионального бокс...\n",
       "4    журнал billboard опубликовал рейтинг самых выс...\n",
       "5    бывшего участника сборной команды актобе квн д...\n",
       "6    великобритания откажется от выплат отступных е...\n",
       "7    талисманы олимпийских и паралимпийских игр в т...\n",
       "8    около российской базы хмеймим в сирии произошл...\n",
       "9    президент украины петр порошенко поздравил бок...\n",
       "Name: text_clean, dtype: object"
      ]
     },
     "execution_count": 500,
     "metadata": {},
     "output_type": "execute_result"
    }
   ],
   "source": [
    "df.text_clean.head(10)"
   ]
  },
  {
   "cell_type": "code",
   "execution_count": null,
   "metadata": {},
   "outputs": [],
   "source": []
  },
  {
   "cell_type": "code",
   "execution_count": null,
   "metadata": {},
   "outputs": [],
   "source": []
  }
 ],
 "metadata": {
  "kernelspec": {
   "display_name": "Python 3",
   "language": "python",
   "name": "python3"
  },
  "language_info": {
   "codemirror_mode": {
    "name": "ipython",
    "version": 3
   },
   "file_extension": ".py",
   "mimetype": "text/x-python",
   "name": "python",
   "nbconvert_exporter": "python",
   "pygments_lexer": "ipython3",
   "version": "3.7.3"
  },
  "varInspector": {
   "cols": {
    "lenName": 16,
    "lenType": 16,
    "lenVar": 40
   },
   "kernels_config": {
    "python": {
     "delete_cmd_postfix": "",
     "delete_cmd_prefix": "del ",
     "library": "var_list.py",
     "varRefreshCmd": "print(var_dic_list())"
    },
    "r": {
     "delete_cmd_postfix": ") ",
     "delete_cmd_prefix": "rm(",
     "library": "var_list.r",
     "varRefreshCmd": "cat(var_dic_list()) "
    }
   },
   "types_to_exclude": [
    "module",
    "function",
    "builtin_function_or_method",
    "instance",
    "_Feature"
   ],
   "window_display": false
  }
 },
 "nbformat": 4,
 "nbformat_minor": 4
}
