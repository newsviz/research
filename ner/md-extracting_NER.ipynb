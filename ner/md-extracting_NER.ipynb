{
 "cells": [
  {
   "cell_type": "markdown",
   "metadata": {},
   "source": [
    "### Сравнение библиотек для извлечение NER "
   ]
  },
  {
   "cell_type": "code",
   "execution_count": 1,
   "metadata": {
    "ExecuteTime": {
     "end_time": "2018-11-01T09:07:10.567980Z",
     "start_time": "2018-11-01T09:07:04.595387Z"
    }
   },
   "outputs": [],
   "source": [
    "import warnings\n",
    "warnings.filterwarnings(\"ignore\")\n",
    "import pandas as pd\n",
    "import numpy as np\n",
    "import pymorphy2\n",
    "\n",
    "import glob\n",
    "import re\n",
    "import natasha\n",
    "from natasha.markup import show_markup, show_json\n",
    "from polyglot.text import Text\n",
    "import spacy\n",
    "import polyglot\n",
    "import nltk\n",
    "\n",
    "\n",
    "import matplotlib.pyplot as plt\n",
    "\n",
    "%matplotlib inline\n",
    "%load_ext autoreload\n",
    "%autoreload 2"
   ]
  },
  {
   "cell_type": "code",
   "execution_count": 2,
   "metadata": {
    "ExecuteTime": {
     "end_time": "2018-11-01T09:20:24.224661Z",
     "start_time": "2018-11-01T09:17:47.789288Z"
    }
   },
   "outputs": [],
   "source": [
    "data = []\n",
    "for df in glob.glob('/proj_news_viz/nlp/topic_models/data/*.csv'):\n",
    "    data = pd.read_csv(df, encoding='utf-8')\n",
    "\n",
    "data = data.drop_duplicates('url')"
   ]
  },
  {
   "cell_type": "markdown",
   "metadata": {},
   "source": [
    "Для сравнения из 10 текстов были извлечены имена и фамилии. "
   ]
  },
  {
   "cell_type": "code",
   "execution_count": 12,
   "metadata": {
    "ExecuteTime": {
     "end_time": "2018-11-01T09:50:49.413145Z",
     "start_time": "2018-11-01T09:50:49.169995Z"
    }
   },
   "outputs": [
    {
     "data": {
      "text/plain": [
       "37"
      ]
     },
     "execution_count": 12,
     "metadata": {},
     "output_type": "execute_result"
    }
   ],
   "source": [
    "texts = '\\\\n'.join(data.text[:10])\n",
    "\n",
    "correct_names = ['Александр Усик', 'Тони Белью', 'Тони Белью', 'Дэвида Хэя', 'Гассиев',\n",
    "           'Усик', 'Мурата Гассиева','Эммануэль Нахшон','Эдена Азара', \n",
    "           'Маурицио Сарри', 'Азар', 'Сарри', 'Азара', 'Азар' ,'Андрей Рябинский',\n",
    "           'Петра Порошенко', 'Муратом Гассиевым' , 'Александром Усиком',\n",
    "           'Порошенко', 'Саша', 'Усик', 'Данияра Алимбаева', 'Данияр', 'Алимбаев', \n",
    "           'Денис Тен', 'Тен', 'Доминик Рааб', 'Дэвид Дэвис', 'Терезы Мэй',\n",
    "           'Борис Джонсон', 'Мэй', 'Тереза Мэй', 'Петр Порошенко', 'Александра Усика',\n",
    "           'Мурата Гассиева', 'Саша', 'Усик'] \n",
    "\n",
    "len(correct_names)"
   ]
  },
  {
   "cell_type": "code",
   "execution_count": 13,
   "metadata": {
    "ExecuteTime": {
     "end_time": "2018-11-01T09:50:56.850284Z",
     "start_time": "2018-11-01T09:50:56.655864Z"
    }
   },
   "outputs": [],
   "source": [
    "stopword_ru=nltk.corpus.stopwords.words('russian')\n",
    "morph = pymorphy2.MorphAnalyzer()\n",
    "\n",
    "def polyglot_extract_names(texts):\n",
    "    blob = polyglot.text.Text(texts,hint_language_code='ru')\n",
    "    persons = []\n",
    "    for entity in blob.entities:\n",
    "        if entity.tag =='I-PER':\n",
    "            persons.append(' '.join(entity))\n",
    "    return persons\n",
    "\n",
    "\n",
    "def natasha_extract_names(texts):\n",
    "    extractor = natasha.NamesExtractor()\n",
    "    matches = extractor(texts)\n",
    "    persons = []\n",
    "    spans = []\n",
    "    spans.extend(_.span for _ in matches)\n",
    "    for i,j in spans:\n",
    "        persons.append(texts[i:j])\n",
    "    return persons\n",
    "\n",
    "def spacy_extract_names(texts):\n",
    "    nlp = spacy.load('xx')\n",
    "    doc = nlp(texts)\n",
    "    persons = []\n",
    "    for ent in doc.ents:\n",
    "        if ent.label_ == 'PER':\n",
    "            persons.append(ent.text)\n",
    "    return persons\n",
    "\n",
    "def evalute_NER(correct_names, pred_names):\n",
    "    cnt_correct_names = 0\n",
    "    error_rate = 0\n",
    "    for name in correct_names:\n",
    "        if name in pred_names:\n",
    "            cnt_correct_names += name in pred_names\n",
    "    error_rate = (len(pred_names) - cnt_correct_names)/len(pred_names)\n",
    "    return (cnt_correct_names/len(correct_names), error_rate)\n",
    "\n",
    "def pymorphy_lemmatize_text(text):\n",
    "    words = []\n",
    "    for word in clean_text(text):\n",
    "        words.append(morph.parse(word)[0].normal_form)\n",
    "    return ' '.join(words)\n",
    "\n",
    "def clean_text(text): \n",
    "\n",
    "    #убираем мусор\n",
    "    text = nltk.re.sub('-\\s\\r\\n\\s+|-\\s\\r\\n|\\r\\n|[«»]|[><]', ' ', text.lower())    \n",
    "    text = nltk.re.sub('[0-9]|[.,:;_%©?*!@#№$^•·&()\\d]|[+=]|[[]|[]]|[/]|\"|\\s{2,}|-|–|—|', ' ', text)\n",
    "    text = re.sub(r\"\\d+\", ' ', text, flags=re.UNICODE)\n",
    "    text = re.sub('\\’|\\”|‘', ' ', text)\n",
    "    text = re.sub(r'\\\\n', '', text)\n",
    "    text = re.sub(r'ё', 'е', text)\n",
    "    text = re.sub('[A-z]','', text)\n",
    "\n",
    "    #убираем стоп-слова\n",
    "    words = text.split()\n",
    "    words = [w for w in words if not w in stopword_ru]\n",
    "\n",
    "    #джойним слова\n",
    "    return words\n"
   ]
  },
  {
   "cell_type": "markdown",
   "metadata": {},
   "source": [
    "Для оценки использовалась метрика accuracy и error rate ( (кол-во найденных имен  - кол-во правильных имен)/кол-во найденных имен) )"
   ]
  },
  {
   "cell_type": "code",
   "execution_count": 14,
   "metadata": {
    "ExecuteTime": {
     "end_time": "2018-11-01T09:50:57.984495Z",
     "start_time": "2018-11-01T09:50:57.945132Z"
    }
   },
   "outputs": [
    {
     "name": "stdout",
     "output_type": "stream",
     "text": [
      "Correct names: \n",
      " Александр Усик, Тони Белью, Тони Белью, Дэвида Хэя, Гассиев, Усик, Мурата Гассиева, Эммануэль Нахшон, Эдена Азара, Маурицио Сарри, Азар, Сарри, Азара, Азар, Андрей Рябинский, Петра Порошенко, Муратом Гассиевым, Александром Усиком, Порошенко, Саша, Усик, Данияра Алимбаева, Данияр, Алимбаев, Денис Тен, Тен, Доминик Рааб, Дэвид Дэвис, Терезы Мэй, Борис Джонсон, Мэй, Тереза Мэй, Петр Порошенко, Александра Усика, Мурата Гассиева, Саша, Усик\n"
     ]
    }
   ],
   "source": [
    "print('Correct names: \\n', ', '.join(correct_names))"
   ]
  },
  {
   "cell_type": "code",
   "execution_count": 7,
   "metadata": {
    "ExecuteTime": {
     "end_time": "2018-11-01T09:22:49.046980Z",
     "start_time": "2018-11-01T09:21:35.196139Z"
    }
   },
   "outputs": [
    {
     "name": "stdout",
     "output_type": "stream",
     "text": [
      "polyglot_extract_names\n",
      "Accuracy: 0.8648648648648649\n",
      "Error rate: 0.30434782608695654\n",
      "Found names: \n",
      " Александр Усик, Тони Белью, Тони Белью, Дэвида Хэя, Гассиев, Мурата Гассиева, Украинец, Эммануэль Нахшон, Белых касок, Эдена Азара, Mirror ., лондонцев Маурицио Сарри, Сарри, Азар, Андрей Рябинский, Петра Порошенко, Муратом, Александром Усиком, Порошенко, Саша, Усик, Гарт Брукс, Бруно Марс, Эд Ширан, Леди Гага, Билли Джоэл, Роджер Уотерс, Coldplay, The, Кендрик Ламар, Пол Маккартни, Джордж Клуни, Алимбаев, Денис Тен, Тен, Доминик Рааб, Дэвид Дэвис, Терезы Мэй, Борис Джонсон, Мэй, Тереза Мэй, Беспилотники, Петр Порошенко, Александра Усика, Мурата Гассиева, Саша\n",
      "29 seconds\n",
      "natasha_extract_names\n",
      "Accuracy: 0.7027027027027027\n",
      "Error rate: 0.46938775510204084\n",
      "Found names: \n",
      " Александр Усик, Тони, Белью, Тони, Белью, Дэвида, Мурата Гассиева, Белых, Эммануэль, Белых, Эдена Азара, Маурицио Сарри, Сарри, Азара, Азар, Андрей Рябинский, Петра Порошенко, Муратом Гассиевым, Александром Усиком, Порошенко, Саша, Бруно, Марс, Эд Ширан, Джоэл, Роджер Уотерс, Кендрик Ламар, Джордж, Клуни, Данияра Алимбаева, Алимбаев, Денис Тен, Алма, Тен, Доминик Рааб, Дэвид Дэвис, Терезы, Мэй, Форин, Борис Джонсон, Тереза, Мэй, Талисманы, Олимпийских, Паралимпиада, Петр Порошенко, Александра Усика, Мурата Гассиева, Саша\n",
      "34 seconds\n",
      "spacy_extract_names\n",
      "Accuracy: 0.43243243243243246\n",
      "Error rate: 0.7142857142857143\n",
      "Found names: \n",
      " Тони Белью, Об, Тони Белью, весе., При, Конечно, Усик, Гассиева. Украинец, Всемирного, Канады, Израиль, Запада., Сирийская, Реалу, Эдена Азара., Королевский, Маурицио Сарри, Сарри. Отмечается, Азара, Азар, Англии, Андрей Рябинский, Украины Петра Порошенко, Муратом Гассиевым, Александром Усиком., Украины., Саша, Украина, Всемирного, На, Гарт Брукс. По, Бруно Марс, Пол Маккартни., Джордж Клуни, долларов.\\nБывшего, Данияр, При, Тен, Брюссель, ЕС., Brexit Доминик Рааб., он. По, Великобритания, Форин Офиса Борис Джонсон. Последний, Поводом, Северной Ирландией, Для, Японии. Олимпийские, Хмеймим в Сирии, ПВО. Об, Хмеймим, Украины Петр Порошенко, Александра Усика, Саша, Украина, Всемирного\n",
      "73 seconds\n"
     ]
    }
   ],
   "source": [
    "start = np.datetime64('now')\n",
    "functions = [polyglot_extract_names, natasha_extract_names, \n",
    "             spacy_extract_names]\n",
    "for fun in functions:\n",
    "    result = fun(texts)\n",
    "    metrics = evalute_NER(correct_names, result)\n",
    "    print(fun.__name__)\n",
    "    print(f'Accuracy: {metrics[0]}\\nError rate: {metrics[1]}')\n",
    "    print('Found names: \\n', ', '.join(result))\n",
    "    print(np.datetime64('now') - start)\n",
    "          "
   ]
  },
  {
   "cell_type": "code",
   "execution_count": 9,
   "metadata": {
    "ExecuteTime": {
     "end_time": "2018-11-01T09:23:17.810356Z",
     "start_time": "2018-11-01T09:23:17.542277Z"
    }
   },
   "outputs": [],
   "source": [
    "df_names = pd.DataFrame(columns=['full_name', 'frequency'])\n",
    "df_names = df_names.set_index('full_name')"
   ]
  },
  {
   "cell_type": "code",
   "execution_count": 23,
   "metadata": {
    "ExecuteTime": {
     "end_time": "2018-11-01T09:58:18.452116Z",
     "start_time": "2018-11-01T09:58:11.858646Z"
    }
   },
   "outputs": [
    {
     "data": {
      "text/plain": [
       "numpy.timedelta64(7,'s')"
      ]
     },
     "execution_count": 23,
     "metadata": {},
     "output_type": "execute_result"
    }
   ],
   "source": [
    "start = np.datetime64('now')\n",
    "for i, text in enumerate(data.text[:100]):\n",
    "\n",
    "    tmp_names = pd.DataFrame(columns=['full_name', 'frequency'])\n",
    "    names = polyglot_extract_names(text)\n",
    "    \n",
    "    for name in names:\n",
    "        lem_text = pymorphy_lemmatize_text(name)\n",
    "        if (lem_text in tmp_names.full_name.values):\n",
    "            ind = tmp_names.full_name == lem_text\n",
    "            tmp_names.loc[ind,'frequency'] = tmp_names[ind].frequency + 1\n",
    "       \n",
    "        elif sum(tmp_names.full_name.apply(lambda x: lem_text.split(' ')[-1]in x.split(' '))):\n",
    "            \n",
    "            ind = tmp_names.full_name.apply(lambda x: lem_text.split(' ')[-1]in x.split(' '))\n",
    "            tmp_names.loc[ind, 'frequency'] =  tmp_names[ind].frequency + 1\n",
    "            \n",
    "        else:\n",
    "            tmp_names = tmp_names.append({'full_name': lem_text, \n",
    "                                        'frequency': 1}, ignore_index=True)\n",
    "    tmp_names = tmp_names.set_index('full_name')\n",
    "    \n",
    "    df_names = pd.DataFrame(pd.concat([df_names,\n",
    "                                       tmp_names]).groupby(level=0)['frequency'].sum())\n",
    "            \n",
    "np.datetime64('now') - start"
   ]
  },
  {
   "cell_type": "code",
   "execution_count": 18,
   "metadata": {
    "ExecuteTime": {
     "end_time": "2018-11-01T09:56:15.844999Z",
     "start_time": "2018-11-01T09:56:15.791818Z"
    }
   },
   "outputs": [],
   "source": [
    "df_names = df_names.reset_index()\n",
    "df_names.columns = ['full_name', 'frequency']\n",
    "df_names = df_names.drop(df_names[df_names.full_name.apply(lambda x: len(str(x))<4)].index)\n",
    "df_names['full_name'] = df_names.full_name.apply(lambda x: ' '.join(x.split(' ')[-2:]) if len(x.split(' '))>2 else ''.join(x.strip()))"
   ]
  },
  {
   "cell_type": "code",
   "execution_count": 19,
   "metadata": {
    "ExecuteTime": {
     "end_time": "2018-11-01T09:56:16.884867Z",
     "start_time": "2018-11-01T09:56:16.839105Z"
    }
   },
   "outputs": [],
   "source": [
    "df_names = pd.DataFrame(df_names.groupby('full_name')['frequency'].sum()).sort_values('frequency', ascending=False)"
   ]
  },
  {
   "cell_type": "code",
   "execution_count": 20,
   "metadata": {
    "ExecuteTime": {
     "end_time": "2018-11-01T09:56:17.808634Z",
     "start_time": "2018-11-01T09:56:17.754567Z"
    }
   },
   "outputs": [
    {
     "data": {
      "text/html": [
       "<div>\n",
       "<style scoped>\n",
       "    .dataframe tbody tr th:only-of-type {\n",
       "        vertical-align: middle;\n",
       "    }\n",
       "\n",
       "    .dataframe tbody tr th {\n",
       "        vertical-align: top;\n",
       "    }\n",
       "\n",
       "    .dataframe thead th {\n",
       "        text-align: right;\n",
       "    }\n",
       "</style>\n",
       "<table border=\"1\" class=\"dataframe\">\n",
       "  <thead>\n",
       "    <tr style=\"text-align: right;\">\n",
       "      <th></th>\n",
       "      <th>frequency</th>\n",
       "    </tr>\n",
       "    <tr>\n",
       "      <th>full_name</th>\n",
       "      <th></th>\n",
       "    </tr>\n",
       "  </thead>\n",
       "  <tbody>\n",
       "    <tr>\n",
       "      <th>александр усик</th>\n",
       "      <td>22</td>\n",
       "    </tr>\n",
       "    <tr>\n",
       "      <th>дональд трамп</th>\n",
       "      <td>18</td>\n",
       "    </tr>\n",
       "    <tr>\n",
       "      <th>андрей воробьев</th>\n",
       "      <td>16</td>\n",
       "    </tr>\n",
       "    <tr>\n",
       "      <th>владимир путин</th>\n",
       "      <td>14</td>\n",
       "    </tr>\n",
       "    <tr>\n",
       "      <th>мурат гассий</th>\n",
       "      <td>12</td>\n",
       "    </tr>\n",
       "    <tr>\n",
       "      <th>абель эрнандес</th>\n",
       "      <td>10</td>\n",
       "    </tr>\n",
       "    <tr>\n",
       "      <th>владимир познер</th>\n",
       "      <td>10</td>\n",
       "    </tr>\n",
       "    <tr>\n",
       "      <th>мбапп</th>\n",
       "      <td>10</td>\n",
       "    </tr>\n",
       "    <tr>\n",
       "      <th>карли кларк</th>\n",
       "      <td>10</td>\n",
       "    </tr>\n",
       "    <tr>\n",
       "      <th>мария бутин</th>\n",
       "      <td>10</td>\n",
       "    </tr>\n",
       "    <tr>\n",
       "      <th>алексей макеев</th>\n",
       "      <td>10</td>\n",
       "    </tr>\n",
       "    <tr>\n",
       "      <th>василий березуцкий</th>\n",
       "      <td>10</td>\n",
       "    </tr>\n",
       "    <tr>\n",
       "      <th>денис тен</th>\n",
       "      <td>8</td>\n",
       "    </tr>\n",
       "    <tr>\n",
       "      <th>чарли роуля</th>\n",
       "      <td>8</td>\n",
       "    </tr>\n",
       "    <tr>\n",
       "      <th>трамп</th>\n",
       "      <td>8</td>\n",
       "    </tr>\n",
       "    <tr>\n",
       "      <th>неймара</th>\n",
       "      <td>8</td>\n",
       "    </tr>\n",
       "    <tr>\n",
       "      <th>роман абрам</th>\n",
       "      <td>8</td>\n",
       "    </tr>\n",
       "    <tr>\n",
       "      <th>владимир лысейко</th>\n",
       "      <td>8</td>\n",
       "    </tr>\n",
       "    <tr>\n",
       "      <th>константин эрнст</th>\n",
       "      <td>8</td>\n",
       "    </tr>\n",
       "    <tr>\n",
       "      <th>кирилл</th>\n",
       "      <td>8</td>\n",
       "    </tr>\n",
       "    <tr>\n",
       "      <th>майкл</th>\n",
       "      <td>8</td>\n",
       "    </tr>\n",
       "    <tr>\n",
       "      <th>конора макгрегор</th>\n",
       "      <td>8</td>\n",
       "    </tr>\n",
       "    <tr>\n",
       "      <th>цска алексей</th>\n",
       "      <td>6</td>\n",
       "    </tr>\n",
       "    <tr>\n",
       "      <th>пётр порошенко</th>\n",
       "      <td>6</td>\n",
       "    </tr>\n",
       "    <tr>\n",
       "      <th>тереза мэй</th>\n",
       "      <td>6</td>\n",
       "    </tr>\n",
       "    <tr>\n",
       "      <th>данила багровый</th>\n",
       "      <td>6</td>\n",
       "    </tr>\n",
       "    <tr>\n",
       "      <th>маурицио сарри</th>\n",
       "      <td>6</td>\n",
       "    </tr>\n",
       "    <tr>\n",
       "      <th>хабиб нурмагомед</th>\n",
       "      <td>6</td>\n",
       "    </tr>\n",
       "    <tr>\n",
       "      <th>ларри хиллбрум</th>\n",
       "      <td>6</td>\n",
       "    </tr>\n",
       "    <tr>\n",
       "      <th>энтони андерсон</th>\n",
       "      <td>6</td>\n",
       "    </tr>\n",
       "    <tr>\n",
       "      <th>эммануэль макрон</th>\n",
       "      <td>6</td>\n",
       "    </tr>\n",
       "    <tr>\n",
       "      <th>александр головин</th>\n",
       "      <td>6</td>\n",
       "    </tr>\n",
       "    <tr>\n",
       "      <th>дон стерджесс</th>\n",
       "      <td>6</td>\n",
       "    </tr>\n",
       "    <tr>\n",
       "      <th>дмитрия пайсон</th>\n",
       "      <td>6</td>\n",
       "    </tr>\n",
       "    <tr>\n",
       "      <th>георгий цитаишвили</th>\n",
       "      <td>6</td>\n",
       "    </tr>\n",
       "    <tr>\n",
       "      <th>тасс</th>\n",
       "      <td>6</td>\n",
       "    </tr>\n",
       "    <tr>\n",
       "      <th>артем дзюба</th>\n",
       "      <td>6</td>\n",
       "    </tr>\n",
       "  </tbody>\n",
       "</table>\n",
       "</div>"
      ],
      "text/plain": [
       "                    frequency\n",
       "full_name                    \n",
       "александр усик             22\n",
       "дональд трамп              18\n",
       "андрей воробьев            16\n",
       "владимир путин             14\n",
       "мурат гассий               12\n",
       "абель эрнандес             10\n",
       "владимир познер            10\n",
       "мбапп                      10\n",
       "карли кларк                10\n",
       "мария бутин                10\n",
       "алексей макеев             10\n",
       "василий березуцкий         10\n",
       "денис тен                   8\n",
       "чарли роуля                 8\n",
       "трамп                       8\n",
       "неймара                     8\n",
       "роман абрам                 8\n",
       "владимир лысейко            8\n",
       "константин эрнст            8\n",
       "кирилл                      8\n",
       "майкл                       8\n",
       "конора макгрегор            8\n",
       "цска алексей                6\n",
       "пётр порошенко              6\n",
       "тереза мэй                  6\n",
       "данила багровый             6\n",
       "маурицио сарри              6\n",
       "хабиб нурмагомед            6\n",
       "ларри хиллбрум              6\n",
       "энтони андерсон             6\n",
       "эммануэль макрон            6\n",
       "александр головин           6\n",
       "дон стерджесс               6\n",
       "дмитрия пайсон              6\n",
       "георгий цитаишвили          6\n",
       "тасс                        6\n",
       "артем дзюба                 6"
      ]
     },
     "execution_count": 20,
     "metadata": {},
     "output_type": "execute_result"
    }
   ],
   "source": [
    "df_names[df_names.frequency>5].sort_values('frequency', ascending=False)"
   ]
  },
  {
   "cell_type": "code",
   "execution_count": null,
   "metadata": {
    "ExecuteTime": {
     "end_time": "2018-10-30T19:30:19.268644Z",
     "start_time": "2018-10-30T19:30:19.036544Z"
    }
   },
   "outputs": [],
   "source": [
    "df_names.to_csv('data/names.csv')"
   ]
  }
 ],
 "metadata": {
  "kernelspec": {
   "display_name": "Python 3",
   "language": "python",
   "name": "python3"
  },
  "language_info": {
   "codemirror_mode": {
    "name": "ipython",
    "version": 3
   },
   "file_extension": ".py",
   "mimetype": "text/x-python",
   "name": "python",
   "nbconvert_exporter": "python",
   "pygments_lexer": "ipython3",
   "version": "3.6.3"
  }
 },
 "nbformat": 4,
 "nbformat_minor": 2
}
